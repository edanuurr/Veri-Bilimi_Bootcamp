{
 "cells": [
  {
   "cell_type": "markdown",
   "id": "5f84aff5-38e9-47ce-930b-a780cee45319",
   "metadata": {},
   "source": [
    "# Kütüphanelerin ve Veri Setinin Yüklenmesi"
   ]
  },
  {
   "cell_type": "code",
   "execution_count": 1,
   "id": "c75e6d22-9a77-493f-843b-f92eaefd3649",
   "metadata": {},
   "outputs": [
    {
     "data": {
      "text/html": [
       "<div>\n",
       "<style scoped>\n",
       "    .dataframe tbody tr th:only-of-type {\n",
       "        vertical-align: middle;\n",
       "    }\n",
       "\n",
       "    .dataframe tbody tr th {\n",
       "        vertical-align: top;\n",
       "    }\n",
       "\n",
       "    .dataframe thead th {\n",
       "        text-align: right;\n",
       "    }\n",
       "</style>\n",
       "<table border=\"1\" class=\"dataframe\">\n",
       "  <thead>\n",
       "    <tr style=\"text-align: right;\">\n",
       "      <th></th>\n",
       "      <th>Country</th>\n",
       "      <th>Region</th>\n",
       "      <th>Population</th>\n",
       "      <th>Area (sq. mi.)</th>\n",
       "      <th>Pop. Density (per sq. mi.)</th>\n",
       "      <th>Coastline (coast/area ratio)</th>\n",
       "      <th>Net migration</th>\n",
       "      <th>Infant mortality (per 1000 births)</th>\n",
       "      <th>GDP ($ per capita)</th>\n",
       "      <th>Literacy (%)</th>\n",
       "      <th>Phones (per 1000)</th>\n",
       "      <th>Arable (%)</th>\n",
       "      <th>Crops (%)</th>\n",
       "      <th>Other (%)</th>\n",
       "      <th>Climate</th>\n",
       "      <th>Birthrate</th>\n",
       "      <th>Deathrate</th>\n",
       "      <th>Agriculture</th>\n",
       "      <th>Industry</th>\n",
       "      <th>Service</th>\n",
       "    </tr>\n",
       "  </thead>\n",
       "  <tbody>\n",
       "    <tr>\n",
       "      <th>0</th>\n",
       "      <td>Afghanistan</td>\n",
       "      <td>ASIA (EX. NEAR EAST)</td>\n",
       "      <td>31056997</td>\n",
       "      <td>647500</td>\n",
       "      <td>48,0</td>\n",
       "      <td>0,00</td>\n",
       "      <td>23,06</td>\n",
       "      <td>163,07</td>\n",
       "      <td>700.0</td>\n",
       "      <td>36,0</td>\n",
       "      <td>3,2</td>\n",
       "      <td>12,13</td>\n",
       "      <td>0,22</td>\n",
       "      <td>87,65</td>\n",
       "      <td>1</td>\n",
       "      <td>46,6</td>\n",
       "      <td>20,34</td>\n",
       "      <td>0,38</td>\n",
       "      <td>0,24</td>\n",
       "      <td>0,38</td>\n",
       "    </tr>\n",
       "    <tr>\n",
       "      <th>1</th>\n",
       "      <td>Albania</td>\n",
       "      <td>EASTERN EUROPE</td>\n",
       "      <td>3581655</td>\n",
       "      <td>28748</td>\n",
       "      <td>124,6</td>\n",
       "      <td>1,26</td>\n",
       "      <td>-4,93</td>\n",
       "      <td>21,52</td>\n",
       "      <td>4500.0</td>\n",
       "      <td>86,5</td>\n",
       "      <td>71,2</td>\n",
       "      <td>21,09</td>\n",
       "      <td>4,42</td>\n",
       "      <td>74,49</td>\n",
       "      <td>3</td>\n",
       "      <td>15,11</td>\n",
       "      <td>5,22</td>\n",
       "      <td>0,232</td>\n",
       "      <td>0,188</td>\n",
       "      <td>0,579</td>\n",
       "    </tr>\n",
       "    <tr>\n",
       "      <th>2</th>\n",
       "      <td>Algeria</td>\n",
       "      <td>NORTHERN AFRICA</td>\n",
       "      <td>32930091</td>\n",
       "      <td>2381740</td>\n",
       "      <td>13,8</td>\n",
       "      <td>0,04</td>\n",
       "      <td>-0,39</td>\n",
       "      <td>31</td>\n",
       "      <td>6000.0</td>\n",
       "      <td>70,0</td>\n",
       "      <td>78,1</td>\n",
       "      <td>3,22</td>\n",
       "      <td>0,25</td>\n",
       "      <td>96,53</td>\n",
       "      <td>1</td>\n",
       "      <td>17,14</td>\n",
       "      <td>4,61</td>\n",
       "      <td>0,101</td>\n",
       "      <td>0,6</td>\n",
       "      <td>0,298</td>\n",
       "    </tr>\n",
       "    <tr>\n",
       "      <th>3</th>\n",
       "      <td>American Samoa</td>\n",
       "      <td>OCEANIA</td>\n",
       "      <td>57794</td>\n",
       "      <td>199</td>\n",
       "      <td>290,4</td>\n",
       "      <td>58,29</td>\n",
       "      <td>-20,71</td>\n",
       "      <td>9,27</td>\n",
       "      <td>8000.0</td>\n",
       "      <td>97,0</td>\n",
       "      <td>259,5</td>\n",
       "      <td>10</td>\n",
       "      <td>15</td>\n",
       "      <td>75</td>\n",
       "      <td>2</td>\n",
       "      <td>22,46</td>\n",
       "      <td>3,27</td>\n",
       "      <td>NaN</td>\n",
       "      <td>NaN</td>\n",
       "      <td>NaN</td>\n",
       "    </tr>\n",
       "    <tr>\n",
       "      <th>4</th>\n",
       "      <td>Andorra</td>\n",
       "      <td>WESTERN EUROPE</td>\n",
       "      <td>71201</td>\n",
       "      <td>468</td>\n",
       "      <td>152,1</td>\n",
       "      <td>0,00</td>\n",
       "      <td>6,6</td>\n",
       "      <td>4,05</td>\n",
       "      <td>19000.0</td>\n",
       "      <td>100,0</td>\n",
       "      <td>497,2</td>\n",
       "      <td>2,22</td>\n",
       "      <td>0</td>\n",
       "      <td>97,78</td>\n",
       "      <td>3</td>\n",
       "      <td>8,71</td>\n",
       "      <td>6,25</td>\n",
       "      <td>NaN</td>\n",
       "      <td>NaN</td>\n",
       "      <td>NaN</td>\n",
       "    </tr>\n",
       "  </tbody>\n",
       "</table>\n",
       "</div>"
      ],
      "text/plain": [
       "           Country                               Region  Population  \\\n",
       "0     Afghanistan         ASIA (EX. NEAR EAST)             31056997   \n",
       "1         Albania   EASTERN EUROPE                          3581655   \n",
       "2         Algeria   NORTHERN AFRICA                        32930091   \n",
       "3  American Samoa   OCEANIA                                   57794   \n",
       "4         Andorra   WESTERN EUROPE                            71201   \n",
       "\n",
       "   Area (sq. mi.) Pop. Density (per sq. mi.) Coastline (coast/area ratio)  \\\n",
       "0          647500                       48,0                         0,00   \n",
       "1           28748                      124,6                         1,26   \n",
       "2         2381740                       13,8                         0,04   \n",
       "3             199                      290,4                        58,29   \n",
       "4             468                      152,1                         0,00   \n",
       "\n",
       "  Net migration Infant mortality (per 1000 births)  GDP ($ per capita)  \\\n",
       "0         23,06                             163,07               700.0   \n",
       "1         -4,93                              21,52              4500.0   \n",
       "2         -0,39                                 31              6000.0   \n",
       "3        -20,71                               9,27              8000.0   \n",
       "4           6,6                               4,05             19000.0   \n",
       "\n",
       "  Literacy (%) Phones (per 1000) Arable (%) Crops (%) Other (%) Climate  \\\n",
       "0         36,0               3,2      12,13      0,22     87,65       1   \n",
       "1         86,5              71,2      21,09      4,42     74,49       3   \n",
       "2         70,0              78,1       3,22      0,25     96,53       1   \n",
       "3         97,0             259,5         10        15        75       2   \n",
       "4        100,0             497,2       2,22         0     97,78       3   \n",
       "\n",
       "  Birthrate Deathrate Agriculture Industry Service  \n",
       "0      46,6     20,34        0,38     0,24    0,38  \n",
       "1     15,11      5,22       0,232    0,188   0,579  \n",
       "2     17,14      4,61       0,101      0,6   0,298  \n",
       "3     22,46      3,27         NaN      NaN     NaN  \n",
       "4      8,71      6,25         NaN      NaN     NaN  "
      ]
     },
     "execution_count": 1,
     "metadata": {},
     "output_type": "execute_result"
    }
   ],
   "source": [
    "import pandas as pd\n",
    "import numpy as np\n",
    "\n",
    "data = pd.read_csv('country.csv')\n",
    "data.head()"
   ]
  },
  {
   "cell_type": "markdown",
   "id": "022d117f-0943-4d15-a752-29259a3eab3c",
   "metadata": {},
   "source": [
    "# Veri Seti Hakkında Genel Bilgiler"
   ]
  },
  {
   "cell_type": "markdown",
   "id": "2323c191-e539-487a-958a-81d048fce5ad",
   "metadata": {},
   "source": [
    "Bu tablo, çeşitli ülkelerle ilgili bir dizi demografik, ekonomik ve coğrafi veriyi içermektedir. Tabloda her bir satır bir ülkeyi temsil ederken, sütunlar bu ülkelerle ilgili farklı özellikleri gösterir. İşte sütunların anlamları:\n",
    "* **Country:** Ülkenin adı.  \n",
    "* **Region:** Ülkenin bulunduğu bölge (örneğin, Asya, Doğu Avrupa).\n",
    "* **Population:** Ülkenin toplam nüfusu.\n",
    "* **Area (sq. mi.):** Ülkenin yüzölçümü (mil kare olarak).\n",
    "* **Pop. Density (per sq. mi.):** Nüfus yoğunluğu (mil kare başına düşen kişi sayısı).\n",
    "* **Coastline (coast/area ratio):** Sahil uzunluğunun, ülkenin toplam alanına oranı.  \n",
    "* **Net migration:** Net göç oranı (göçmenlerin ülkeye giren veya ülkeden çıkan kişi sayısına göre oranı).  \n",
    "* **Infant mortality (per 1000 births):** Bebek ölüm oranı (1000 doğum başına).  \n",
    "* **GDP ($ per capita):** Kişi başına düşen Gayri Safi Yurtiçi Hasıla (GSYİH).  \n",
    "* **Literacy (%):** Okur-yazarlık oranı.  \n",
    "* **Phones (per 1000):** Her 1000 kişi başına düşen telefon sayısı.  \n",
    "* **Arable (%):** Tarıma elverişli arazi yüzdesi.  \n",
    "* **Crops (%):** Ekilebilir ürünlerin yüzdesi.  \n",
    "* **Other (%):** Diğer arazi kullanımı yüzdesi.  \n",
    "* **Climate:** Ülkenin iklim kategorisi (numerik bir değer olarak gösterilmiş).  \n",
    "* **Birthrate:** Doğum oranı.  \n",
    "* **Deathrate:** Ölüm oranı.  \n",
    "* **Agriculture:** Tarım sektörünün ekonomideki payı.  \n",
    "* **Industry:** Sanayi sektörünün ekonomideki payı.  \n",
    "* **Service:** Hizmet sektörünün ekonomideki payı.  "
   ]
  },
  {
   "cell_type": "code",
   "execution_count": 2,
   "id": "15373fed-2533-4d4f-bf11-c1d5297a837a",
   "metadata": {},
   "outputs": [
    {
     "name": "stdout",
     "output_type": "stream",
     "text": [
      "<class 'pandas.core.frame.DataFrame'>\n",
      "RangeIndex: 227 entries, 0 to 226\n",
      "Data columns (total 20 columns):\n",
      " #   Column                              Non-Null Count  Dtype  \n",
      "---  ------                              --------------  -----  \n",
      " 0   Country                             227 non-null    object \n",
      " 1   Region                              227 non-null    object \n",
      " 2   Population                          227 non-null    int64  \n",
      " 3   Area (sq. mi.)                      227 non-null    int64  \n",
      " 4   Pop. Density (per sq. mi.)          227 non-null    object \n",
      " 5   Coastline (coast/area ratio)        227 non-null    object \n",
      " 6   Net migration                       224 non-null    object \n",
      " 7   Infant mortality (per 1000 births)  224 non-null    object \n",
      " 8   GDP ($ per capita)                  226 non-null    float64\n",
      " 9   Literacy (%)                        209 non-null    object \n",
      " 10  Phones (per 1000)                   223 non-null    object \n",
      " 11  Arable (%)                          225 non-null    object \n",
      " 12  Crops (%)                           225 non-null    object \n",
      " 13  Other (%)                           225 non-null    object \n",
      " 14  Climate                             205 non-null    object \n",
      " 15  Birthrate                           224 non-null    object \n",
      " 16  Deathrate                           223 non-null    object \n",
      " 17  Agriculture                         212 non-null    object \n",
      " 18  Industry                            211 non-null    object \n",
      " 19  Service                             212 non-null    object \n",
      "dtypes: float64(1), int64(2), object(17)\n",
      "memory usage: 35.6+ KB\n"
     ]
    }
   ],
   "source": [
    "data.info()"
   ]
  },
  {
   "cell_type": "markdown",
   "id": "377c2e40-2598-4767-acdf-b7cfee008c1b",
   "metadata": {},
   "source": [
    "## Analiz ve Yorumlama"
   ]
  },
  {
   "cell_type": "markdown",
   "id": "c6fdd34b-a166-450e-b3e9-6b7767cfc121",
   "metadata": {},
   "source": [
    "`info()` çıktısını incelediğimizde bu veri setinin üzerinde biraz çalışmamız gerektiğini anlıyoruz. Karşımıza çıkan temel sorunlar şunlar:\n",
    "\n",
    "1.  **Yanlış Veri Tipleri:** \"Population\" ve \"Area\" dışındaki birçok sayısal sütun, metin (`object`) olarak okunmuş. Bunun en bariz nedeni, ondalık ayırıcı olarak nokta (`.`) yerine virgül (`,`) kullanılması. Pandas bu virgülleri gördüğü için sütunları sayısal olarak tanıyamamış.\n",
    "2.  **Eksik Veriler:** Birçok sütunda `Non-Null Count` değerinin 227'den (toplam satır sayısı) az olduğunu görüyoruz. Bu da bazı hücrelerde veri (`NaN`) olmadığı anlamına geliyor.\n",
    "3.  **Potansiyel Boşluk Sorunları:** Sütun adlarında veya metin verilerinde (`Country`, `Region`) gözle görülmeyen, başında veya sonunda boşluk karakterleri olabilir. Bu, daha sonra verilere erişirken sorun yaratabilir.\n",
    "\n",
    "Sıralama ve filtreleme gibi sayısal işlemler yapmadan önce bu sorunları mutlaka çözmemiz gerekiyor."
   ]
  },
  {
   "cell_type": "markdown",
   "id": "f0525053-a790-46c1-95ad-53fdecad283d",
   "metadata": {},
   "source": [
    "# Görevler"
   ]
  },
  {
   "cell_type": "markdown",
   "id": "69b75c06-0375-4721-96a7-3d499c8a6340",
   "metadata": {},
   "source": [
    "1. Nüfusa göre azalan sırada ülkeleri listeleyin.\n",
    "2. GDP per capita sütununa göre ülkeleri artan sırada sıralamak (Kişi başına düşen Gayri Safi Yurtiçi Hasıla).\n",
    "3. Nüfusu 10 milyonun üzerinde olan ülkeleri seçin (Population sütunu 10 milyonun üzerinde olan ülkeleri seçmek).\n",
    "4. Literacy (%) sütununa göre ülkeleri sıralayıp, en yüksek okur-yazarlık oranına sahip ilk 5 ülkeyi seçmek (Literacy oranına göre en yüksek ilk 5 ülke).\n",
    "5. Kişi Başı GSYİH 10.000'in Üzerinde Olan Ülkeleri Filtreleme (GDP per capita > 10.000 olan ülkeleri filtreleyin)\n",
    "6. Nüfus yoğunluğu en yüksek ilk 10 ülkeyi bulun. (Pop. Density (per sq. mi.) sütununa göre ülkeleri sıralayıp, en yüksek nüfus yoğunluğuna sahip ilk 10 ülkeyi seçmek.)"
   ]
  },
  {
   "cell_type": "markdown",
   "id": "4d39c633-1d3a-48ea-ae45-026bce476104",
   "metadata": {},
   "source": [
    "## Veri Temizleme"
   ]
  },
  {
   "cell_type": "code",
   "execution_count": 3,
   "id": "3c56eb9f-4cd9-4f42-b8a1-3dfb344dc3b2",
   "metadata": {},
   "outputs": [
    {
     "name": "stdout",
     "output_type": "stream",
     "text": [
      "Veri Temizliği Sonrası Sütun Tipleri:\n",
      "<class 'pandas.core.frame.DataFrame'>\n",
      "RangeIndex: 227 entries, 0 to 226\n",
      "Data columns (total 20 columns):\n",
      " #   Column                              Non-Null Count  Dtype  \n",
      "---  ------                              --------------  -----  \n",
      " 0   Country                             227 non-null    object \n",
      " 1   Region                              227 non-null    object \n",
      " 2   Population                          227 non-null    int64  \n",
      " 3   Area (sq. mi.)                      227 non-null    int64  \n",
      " 4   Pop. Density (per sq. mi.)          227 non-null    float64\n",
      " 5   Coastline (coast/area ratio)        227 non-null    float64\n",
      " 6   Net migration                       227 non-null    float64\n",
      " 7   Infant mortality (per 1000 births)  227 non-null    float64\n",
      " 8   GDP ($ per capita)                  227 non-null    float64\n",
      " 9   Literacy (%)                        227 non-null    float64\n",
      " 10  Phones (per 1000)                   227 non-null    float64\n",
      " 11  Arable (%)                          227 non-null    float64\n",
      " 12  Crops (%)                           227 non-null    float64\n",
      " 13  Other (%)                           227 non-null    float64\n",
      " 14  Climate                             227 non-null    float64\n",
      " 15  Birthrate                           227 non-null    float64\n",
      " 16  Deathrate                           227 non-null    float64\n",
      " 17  Agriculture                         227 non-null    float64\n",
      " 18  Industry                            227 non-null    float64\n",
      " 19  Service                             227 non-null    float64\n",
      "dtypes: float64(16), int64(2), object(2)\n",
      "memory usage: 35.6+ KB\n"
     ]
    }
   ],
   "source": [
    "data.columns = data.columns.str.strip()\n",
    "for col in data.select_dtypes(include=['object']).columns:\n",
    "    data[col] = data[col].str.strip()\n",
    "\n",
    "columns_to_convert = data.select_dtypes(include=['object']).columns\n",
    "for col in columns_to_convert:\n",
    "    if col not in ['Country', 'Region']:\n",
    "        data[col] = pd.to_numeric(data[col].str.replace(',', '.'), errors='coerce')\n",
    "\n",
    "numerical_cols = data.select_dtypes(include=np.number).columns\n",
    "for col in numerical_cols:\n",
    "    data[col] = data.groupby('Region')[col].transform(lambda x: x.fillna(x.mean()))\n",
    "\n",
    "data.fillna(data.mean(numeric_only=True), inplace=True)\n",
    "\n",
    "print(\"Veri Temizliği Sonrası Sütun Tipleri:\")\n",
    "data.info()"
   ]
  },
  {
   "cell_type": "markdown",
   "id": "408c3184-181d-40fd-8a03-dbdfea98817e",
   "metadata": {},
   "source": [
    "### Analiz ve Yorumlama"
   ]
  },
  {
   "cell_type": "markdown",
   "id": "b54d6724-607d-4c71-9016-be0384bd0f67",
   "metadata": {},
   "source": [
    "Bu bölümde, veri setimizi analiz edilebilir hale getirmek için birkaç önemli temizlik adımı uyguladık:\n",
    "\n",
    "1.  **Boşlukları Temizledik:** Önce hem sütun adlarındaki hem de metin verilerindeki gereksiz boşlukları `strip()` fonksiyonu ile kaldırdık. Bu, gelecekteki olası hataları önlemek için iyi bir alışkanlıktır.\n",
    "2.  **Veri Tiplerini Düzelttik:** Sayısal olması gereken ama metin olarak okunan tüm sütunları tek tek elden geçirdik. Her birinde `str.replace(',', '.')` komutuyla ondalık virgüllerini noktalara çevirdik ve ardından `pd.to_numeric` ile sayısal formata dönüştürdük.\n",
    "3.  **Eksik Verileri Doldurduk:** Boş kalan hücreleri (`NaN`) doldurmak için mantıklı bir yöntem izledik. Bir ülkenin eksik verisini, ait olduğu bölgenin (`Region`) ortalamasıyla doldurduk. Örneğin, bir Avrupa ülkesinin GSYİH (GDP) verisi eksikse, onu diğer Avrupa ülkelerinin ortalama GSYİH değeriyle tamamladık. Bu, rastgele bir sayıyla doldurmaktan çok daha anlamlı bir yaklaşımdır.\n",
    "\n",
    "Son olarak `info()` çıktısını tekrar kontrol ettiğimizde, artık tüm sayısal sütunların doğru bir şekilde `float64` veya `int64` formatında olduğunu ve hiçbir eksik veri kalmadığını görüyoruz. Verimiz artık görevler için hazır!"
   ]
  },
  {
   "cell_type": "markdown",
   "id": "8e9ce6c2-b1da-4d8b-b176-0b790cfa046f",
   "metadata": {},
   "source": [
    "## 1. Görev : Nüfusa Göre Azalan Sırada Sıralama"
   ]
  },
  {
   "cell_type": "code",
   "execution_count": 4,
   "id": "bc3b9a86-82c3-4699-a770-6a318f526298",
   "metadata": {},
   "outputs": [
    {
     "data": {
      "text/html": [
       "<div>\n",
       "<style scoped>\n",
       "    .dataframe tbody tr th:only-of-type {\n",
       "        vertical-align: middle;\n",
       "    }\n",
       "\n",
       "    .dataframe tbody tr th {\n",
       "        vertical-align: top;\n",
       "    }\n",
       "\n",
       "    .dataframe thead th {\n",
       "        text-align: right;\n",
       "    }\n",
       "</style>\n",
       "<table border=\"1\" class=\"dataframe\">\n",
       "  <thead>\n",
       "    <tr style=\"text-align: right;\">\n",
       "      <th></th>\n",
       "      <th>Country</th>\n",
       "      <th>Population</th>\n",
       "    </tr>\n",
       "  </thead>\n",
       "  <tbody>\n",
       "    <tr>\n",
       "      <th>42</th>\n",
       "      <td>China</td>\n",
       "      <td>1313973713</td>\n",
       "    </tr>\n",
       "    <tr>\n",
       "      <th>94</th>\n",
       "      <td>India</td>\n",
       "      <td>1095351995</td>\n",
       "    </tr>\n",
       "    <tr>\n",
       "      <th>214</th>\n",
       "      <td>United States</td>\n",
       "      <td>298444215</td>\n",
       "    </tr>\n",
       "    <tr>\n",
       "      <th>95</th>\n",
       "      <td>Indonesia</td>\n",
       "      <td>245452739</td>\n",
       "    </tr>\n",
       "    <tr>\n",
       "      <th>27</th>\n",
       "      <td>Brazil</td>\n",
       "      <td>188078227</td>\n",
       "    </tr>\n",
       "    <tr>\n",
       "      <th>156</th>\n",
       "      <td>Pakistan</td>\n",
       "      <td>165803560</td>\n",
       "    </tr>\n",
       "    <tr>\n",
       "      <th>16</th>\n",
       "      <td>Bangladesh</td>\n",
       "      <td>147365352</td>\n",
       "    </tr>\n",
       "    <tr>\n",
       "      <th>169</th>\n",
       "      <td>Russia</td>\n",
       "      <td>142893540</td>\n",
       "    </tr>\n",
       "    <tr>\n",
       "      <th>152</th>\n",
       "      <td>Nigeria</td>\n",
       "      <td>131859731</td>\n",
       "    </tr>\n",
       "    <tr>\n",
       "      <th>103</th>\n",
       "      <td>Japan</td>\n",
       "      <td>127463611</td>\n",
       "    </tr>\n",
       "  </tbody>\n",
       "</table>\n",
       "</div>"
      ],
      "text/plain": [
       "           Country  Population\n",
       "42           China  1313973713\n",
       "94           India  1095351995\n",
       "214  United States   298444215\n",
       "95       Indonesia   245452739\n",
       "27          Brazil   188078227\n",
       "156       Pakistan   165803560\n",
       "16      Bangladesh   147365352\n",
       "169         Russia   142893540\n",
       "152        Nigeria   131859731\n",
       "103          Japan   127463611"
      ]
     },
     "execution_count": 4,
     "metadata": {},
     "output_type": "execute_result"
    }
   ],
   "source": [
    "sorted_by_population = data.sort_values(by='Population', ascending=False)\n",
    "sorted_by_population[['Country', 'Population']].head(10)"
   ]
  },
  {
   "cell_type": "markdown",
   "id": "dd75ee30-8199-483f-aacc-cb4a65c98bf0",
   "metadata": {},
   "source": [
    "### Analiz ve Yorumlama"
   ]
  },
  {
   "cell_type": "markdown",
   "id": "3fd07a4e-3a9d-4167-be29-f7aed07f58cb",
   "metadata": {},
   "source": [
    "`sort_values()` fonksiyonu ile veri setimizi `Population` sütununa göre büyükten küçüğe (`ascending=False`) sıraladık. Beklendiği gibi, dünyanın en kalabalık ülkeleri olan Çin ve Hindistan listenin başında yer alıyor."
   ]
  },
  {
   "cell_type": "markdown",
   "id": "5dc8388b-5a88-482f-b449-acc3ec448498",
   "metadata": {},
   "source": [
    "## 2.Görev : GDP per capita sütununa göre ülkeleri artan sırada sıralamak"
   ]
  },
  {
   "cell_type": "code",
   "execution_count": 5,
   "id": "edbdf766-151f-46ba-b4a7-76ab7fc4a616",
   "metadata": {},
   "outputs": [
    {
     "data": {
      "text/html": [
       "<div>\n",
       "<style scoped>\n",
       "    .dataframe tbody tr th:only-of-type {\n",
       "        vertical-align: middle;\n",
       "    }\n",
       "\n",
       "    .dataframe tbody tr th {\n",
       "        vertical-align: top;\n",
       "    }\n",
       "\n",
       "    .dataframe thead th {\n",
       "        text-align: right;\n",
       "    }\n",
       "</style>\n",
       "<table border=\"1\" class=\"dataframe\">\n",
       "  <thead>\n",
       "    <tr style=\"text-align: right;\">\n",
       "      <th></th>\n",
       "      <th>Country</th>\n",
       "      <th>Region</th>\n",
       "      <th>GDP ($ per capita)</th>\n",
       "    </tr>\n",
       "  </thead>\n",
       "  <tbody>\n",
       "    <tr>\n",
       "      <th>58</th>\n",
       "      <td>East Timor</td>\n",
       "      <td>ASIA (EX. NEAR EAST)</td>\n",
       "      <td>500.0</td>\n",
       "    </tr>\n",
       "    <tr>\n",
       "      <th>188</th>\n",
       "      <td>Somalia</td>\n",
       "      <td>SUB-SAHARAN AFRICA</td>\n",
       "      <td>500.0</td>\n",
       "    </tr>\n",
       "    <tr>\n",
       "      <th>183</th>\n",
       "      <td>Sierra Leone</td>\n",
       "      <td>SUB-SAHARAN AFRICA</td>\n",
       "      <td>500.0</td>\n",
       "    </tr>\n",
       "    <tr>\n",
       "      <th>200</th>\n",
       "      <td>Tanzania</td>\n",
       "      <td>SUB-SAHARAN AFRICA</td>\n",
       "      <td>600.0</td>\n",
       "    </tr>\n",
       "    <tr>\n",
       "      <th>74</th>\n",
       "      <td>Gaza Strip</td>\n",
       "      <td>NEAR EAST</td>\n",
       "      <td>600.0</td>\n",
       "    </tr>\n",
       "    <tr>\n",
       "      <th>33</th>\n",
       "      <td>Burundi</td>\n",
       "      <td>SUB-SAHARAN AFRICA</td>\n",
       "      <td>600.0</td>\n",
       "    </tr>\n",
       "    <tr>\n",
       "      <th>125</th>\n",
       "      <td>Malawi</td>\n",
       "      <td>SUB-SAHARAN AFRICA</td>\n",
       "      <td>600.0</td>\n",
       "    </tr>\n",
       "    <tr>\n",
       "      <th>0</th>\n",
       "      <td>Afghanistan</td>\n",
       "      <td>ASIA (EX. NEAR EAST)</td>\n",
       "      <td>700.0</td>\n",
       "    </tr>\n",
       "    <tr>\n",
       "      <th>46</th>\n",
       "      <td>Congo, Repub. of the</td>\n",
       "      <td>SUB-SAHARAN AFRICA</td>\n",
       "      <td>700.0</td>\n",
       "    </tr>\n",
       "    <tr>\n",
       "      <th>45</th>\n",
       "      <td>Congo, Dem. Rep.</td>\n",
       "      <td>SUB-SAHARAN AFRICA</td>\n",
       "      <td>700.0</td>\n",
       "    </tr>\n",
       "  </tbody>\n",
       "</table>\n",
       "</div>"
      ],
      "text/plain": [
       "                  Country                Region  GDP ($ per capita)\n",
       "58             East Timor  ASIA (EX. NEAR EAST)               500.0\n",
       "188               Somalia    SUB-SAHARAN AFRICA               500.0\n",
       "183          Sierra Leone    SUB-SAHARAN AFRICA               500.0\n",
       "200              Tanzania    SUB-SAHARAN AFRICA               600.0\n",
       "74             Gaza Strip             NEAR EAST               600.0\n",
       "33                Burundi    SUB-SAHARAN AFRICA               600.0\n",
       "125                Malawi    SUB-SAHARAN AFRICA               600.0\n",
       "0             Afghanistan  ASIA (EX. NEAR EAST)               700.0\n",
       "46   Congo, Repub. of the    SUB-SAHARAN AFRICA               700.0\n",
       "45       Congo, Dem. Rep.    SUB-SAHARAN AFRICA               700.0"
      ]
     },
     "execution_count": 5,
     "metadata": {},
     "output_type": "execute_result"
    }
   ],
   "source": [
    "sorted_by_gdp = data.sort_values(by='GDP ($ per capita)', ascending=True)\n",
    "sorted_by_gdp[['Country', 'Region', 'GDP ($ per capita)']].head(10)"
   ]
  },
  {
   "cell_type": "markdown",
   "id": "e765555d-50db-429f-8cbb-8041b7064b7a",
   "metadata": {},
   "source": [
    "### Analiz ve Yorumlama"
   ]
  },
  {
   "cell_type": "markdown",
   "id": "277ff4e4-fddc-4e05-9113-15c1a3b6b32a",
   "metadata": {},
   "source": [
    "Bu kez `GDP ($ per capita)` sütununa göre küçükten büyüğe (artan sırada) bir sıralama yaptık. Sonuçlar, kişi başına düşen milli gelirin en düşük olduğu ülkeleri gösteriyor. Bu ülkelerin çoğunlukla \"SUB-SAHARAN AFRICA\" bölgesinde yoğunlaştığını görmek, bölgenin ekonomik durumu hakkında bir fikir veriyor."
   ]
  },
  {
   "cell_type": "markdown",
   "id": "04e1b509-459c-41b1-aaf4-16d160badd0f",
   "metadata": {},
   "source": [
    "## 3.Görev : Population sütunu 10 milyonun üzerinde olan ülkeleri seçmek"
   ]
  },
  {
   "cell_type": "code",
   "execution_count": 6,
   "id": "73614da9-b83a-4eb5-890d-d38881f11ab5",
   "metadata": {},
   "outputs": [
    {
     "name": "stdout",
     "output_type": "stream",
     "text": [
      "Nüfusu 10 milyondan fazla olan ülke sayısı: 79\n"
     ]
    },
    {
     "data": {
      "text/html": [
       "<div>\n",
       "<style scoped>\n",
       "    .dataframe tbody tr th:only-of-type {\n",
       "        vertical-align: middle;\n",
       "    }\n",
       "\n",
       "    .dataframe tbody tr th {\n",
       "        vertical-align: top;\n",
       "    }\n",
       "\n",
       "    .dataframe thead th {\n",
       "        text-align: right;\n",
       "    }\n",
       "</style>\n",
       "<table border=\"1\" class=\"dataframe\">\n",
       "  <thead>\n",
       "    <tr style=\"text-align: right;\">\n",
       "      <th></th>\n",
       "      <th>Country</th>\n",
       "      <th>Population</th>\n",
       "    </tr>\n",
       "  </thead>\n",
       "  <tbody>\n",
       "    <tr>\n",
       "      <th>0</th>\n",
       "      <td>Afghanistan</td>\n",
       "      <td>31056997</td>\n",
       "    </tr>\n",
       "    <tr>\n",
       "      <th>2</th>\n",
       "      <td>Algeria</td>\n",
       "      <td>32930091</td>\n",
       "    </tr>\n",
       "    <tr>\n",
       "      <th>5</th>\n",
       "      <td>Angola</td>\n",
       "      <td>12127071</td>\n",
       "    </tr>\n",
       "    <tr>\n",
       "      <th>8</th>\n",
       "      <td>Argentina</td>\n",
       "      <td>39921833</td>\n",
       "    </tr>\n",
       "    <tr>\n",
       "      <th>11</th>\n",
       "      <td>Australia</td>\n",
       "      <td>20264082</td>\n",
       "    </tr>\n",
       "  </tbody>\n",
       "</table>\n",
       "</div>"
      ],
      "text/plain": [
       "        Country  Population\n",
       "0   Afghanistan    31056997\n",
       "2       Algeria    32930091\n",
       "5        Angola    12127071\n",
       "8     Argentina    39921833\n",
       "11    Australia    20264082"
      ]
     },
     "execution_count": 6,
     "metadata": {},
     "output_type": "execute_result"
    }
   ],
   "source": [
    "population_over_10m = data[data['Population'] > 10000000]\n",
    "print(f\"Nüfusu 10 milyondan fazla olan ülke sayısı: {len(population_over_10m)}\")\n",
    "population_over_10m[['Country', 'Population']].head()"
   ]
  },
  {
   "cell_type": "markdown",
   "id": "11d454f8-8456-4ebd-bce3-526b9dce0c8a",
   "metadata": {},
   "source": [
    "### Analiz ve Yorumlama"
   ]
  },
  {
   "cell_type": "markdown",
   "id": "3da948d6-53cc-4b70-b15e-c3f0544aa988",
   "metadata": {},
   "source": [
    "Burada basit bir filtreleme işlemi uyguladık. `Population` sütunundaki değeri 10 milyondan büyük olan satırları (ülkeleri) seçtik. Bu koşulu sağlayan 79 ülke olduğunu ve listenin ilk birkaçını tabloda görüyoruz."
   ]
  },
  {
   "cell_type": "markdown",
   "id": "5e2b18d3-9770-4118-aafb-1ca4e01c4151",
   "metadata": {},
   "source": [
    "## 4.Görev : En yüksek okur-yazarlık oranına sahip ilk 5 ülkeyi seçmek"
   ]
  },
  {
   "cell_type": "code",
   "execution_count": 7,
   "id": "d164992d-d27d-4ca3-9b5d-7ef35e41b9c3",
   "metadata": {},
   "outputs": [
    {
     "data": {
      "text/html": [
       "<div>\n",
       "<style scoped>\n",
       "    .dataframe tbody tr th:only-of-type {\n",
       "        vertical-align: middle;\n",
       "    }\n",
       "\n",
       "    .dataframe tbody tr th {\n",
       "        vertical-align: top;\n",
       "    }\n",
       "\n",
       "    .dataframe thead th {\n",
       "        text-align: right;\n",
       "    }\n",
       "</style>\n",
       "<table border=\"1\" class=\"dataframe\">\n",
       "  <thead>\n",
       "    <tr style=\"text-align: right;\">\n",
       "      <th></th>\n",
       "      <th>Country</th>\n",
       "      <th>Literacy (%)</th>\n",
       "    </tr>\n",
       "  </thead>\n",
       "  <tbody>\n",
       "    <tr>\n",
       "      <th>119</th>\n",
       "      <td>Liechtenstein</td>\n",
       "      <td>100.0</td>\n",
       "    </tr>\n",
       "    <tr>\n",
       "      <th>11</th>\n",
       "      <td>Australia</td>\n",
       "      <td>100.0</td>\n",
       "    </tr>\n",
       "    <tr>\n",
       "      <th>154</th>\n",
       "      <td>Norway</td>\n",
       "      <td>100.0</td>\n",
       "    </tr>\n",
       "    <tr>\n",
       "      <th>121</th>\n",
       "      <td>Luxembourg</td>\n",
       "      <td>100.0</td>\n",
       "    </tr>\n",
       "    <tr>\n",
       "      <th>4</th>\n",
       "      <td>Andorra</td>\n",
       "      <td>100.0</td>\n",
       "    </tr>\n",
       "  </tbody>\n",
       "</table>\n",
       "</div>"
      ],
      "text/plain": [
       "           Country  Literacy (%)\n",
       "119  Liechtenstein         100.0\n",
       "11       Australia         100.0\n",
       "154         Norway         100.0\n",
       "121     Luxembourg         100.0\n",
       "4          Andorra         100.0"
      ]
     },
     "execution_count": 7,
     "metadata": {},
     "output_type": "execute_result"
    }
   ],
   "source": [
    "top_5_literacy = data.sort_values(by='Literacy (%)', ascending=False).head(5)\n",
    "top_5_literacy[['Country', 'Literacy (%)']]"
   ]
  },
  {
   "cell_type": "markdown",
   "id": "38a7c70e-5e64-4806-b6e7-934d841f18a5",
   "metadata": {},
   "source": [
    "### Analiz ve Yorumlama"
   ]
  },
  {
   "cell_type": "markdown",
   "id": "74589501-ca80-48ea-bc48-96d8141345ca",
   "metadata": {},
   "source": [
    "Okur-yazarlık oranı en yüksek ülkeleri bulmak için önce `Literacy (%)` sütununa göre azalan bir sıralama yaptık, ardından `.head(5)` metoduyla bu listenin en tepesindeki 5 ülkeyi aldık. Sonuçlar, okur-yazarlık oranının %100 olduğu gelişmiş Avrupa ülkelerini gösteriyor."
   ]
  },
  {
   "cell_type": "markdown",
   "id": "261c8b06-af0b-4644-a921-04a4f55b25b0",
   "metadata": {},
   "source": [
    "## 5.Görev : Kişi Başı GSYİH 10.000'in Üzerinde Olan Ülkeleri Filtreleme"
   ]
  },
  {
   "cell_type": "code",
   "execution_count": 8,
   "id": "7c105a66-ff6d-49e1-bc65-0e245bb17417",
   "metadata": {},
   "outputs": [
    {
     "name": "stdout",
     "output_type": "stream",
     "text": [
      "Kişi başı GSYİH'si 10.000'den yüksek olan ülke sayısı: 76\n"
     ]
    },
    {
     "data": {
      "text/html": [
       "<div>\n",
       "<style scoped>\n",
       "    .dataframe tbody tr th:only-of-type {\n",
       "        vertical-align: middle;\n",
       "    }\n",
       "\n",
       "    .dataframe tbody tr th {\n",
       "        vertical-align: top;\n",
       "    }\n",
       "\n",
       "    .dataframe thead th {\n",
       "        text-align: right;\n",
       "    }\n",
       "</style>\n",
       "<table border=\"1\" class=\"dataframe\">\n",
       "  <thead>\n",
       "    <tr style=\"text-align: right;\">\n",
       "      <th></th>\n",
       "      <th>Country</th>\n",
       "      <th>GDP ($ per capita)</th>\n",
       "    </tr>\n",
       "  </thead>\n",
       "  <tbody>\n",
       "    <tr>\n",
       "      <th>4</th>\n",
       "      <td>Andorra</td>\n",
       "      <td>19000.0</td>\n",
       "    </tr>\n",
       "    <tr>\n",
       "      <th>7</th>\n",
       "      <td>Antigua &amp; Barbuda</td>\n",
       "      <td>11000.0</td>\n",
       "    </tr>\n",
       "    <tr>\n",
       "      <th>8</th>\n",
       "      <td>Argentina</td>\n",
       "      <td>11200.0</td>\n",
       "    </tr>\n",
       "    <tr>\n",
       "      <th>10</th>\n",
       "      <td>Aruba</td>\n",
       "      <td>28000.0</td>\n",
       "    </tr>\n",
       "    <tr>\n",
       "      <th>11</th>\n",
       "      <td>Australia</td>\n",
       "      <td>29000.0</td>\n",
       "    </tr>\n",
       "  </tbody>\n",
       "</table>\n",
       "</div>"
      ],
      "text/plain": [
       "              Country  GDP ($ per capita)\n",
       "4             Andorra             19000.0\n",
       "7   Antigua & Barbuda             11000.0\n",
       "8           Argentina             11200.0\n",
       "10              Aruba             28000.0\n",
       "11          Australia             29000.0"
      ]
     },
     "execution_count": 8,
     "metadata": {},
     "output_type": "execute_result"
    }
   ],
   "source": [
    "gdp_over_10k = data[data['GDP ($ per capita)'] > 10000]\n",
    "print(f\"Kişi başı GSYİH'si 10.000'den yüksek olan ülke sayısı: {len(gdp_over_10k)}\")\n",
    "gdp_over_10k[['Country', 'GDP ($ per capita)']].head()"
   ]
  },
  {
   "cell_type": "markdown",
   "id": "e10ef658-712c-482e-ba44-beb794305d5c",
   "metadata": {},
   "source": [
    "### Analiz ve Yorumlama"
   ]
  },
  {
   "cell_type": "markdown",
   "id": "0a610471-dc39-468d-ae5b-18299e78c7de",
   "metadata": {},
   "source": [
    "Bir önceki göreve benzer şekilde, bu sefer `GDP ($ per capita)` sütununda değeri 10.000'den büyük olan ülkeleri filtreledik. Bu, genellikle gelişmiş veya hızla gelişmekte olan ekonomilere sahip 76 ülkenin listesini bize verdi."
   ]
  },
  {
   "cell_type": "markdown",
   "id": "c604a68a-4b29-4756-a083-65060417339e",
   "metadata": {},
   "source": [
    "## 6.Görev : En Yüksek Nüfus Yoğunluğuna Sahip İlk 10 Ülkeyi Seçme"
   ]
  },
  {
   "cell_type": "code",
   "execution_count": 9,
   "id": "2b60d585-c6b6-407c-9cfb-b8e4c1f04f60",
   "metadata": {},
   "outputs": [
    {
     "data": {
      "text/html": [
       "<div>\n",
       "<style scoped>\n",
       "    .dataframe tbody tr th:only-of-type {\n",
       "        vertical-align: middle;\n",
       "    }\n",
       "\n",
       "    .dataframe tbody tr th {\n",
       "        vertical-align: top;\n",
       "    }\n",
       "\n",
       "    .dataframe thead th {\n",
       "        text-align: right;\n",
       "    }\n",
       "</style>\n",
       "<table border=\"1\" class=\"dataframe\">\n",
       "  <thead>\n",
       "    <tr style=\"text-align: right;\">\n",
       "      <th></th>\n",
       "      <th>Country</th>\n",
       "      <th>Pop. Density (per sq. mi.)</th>\n",
       "    </tr>\n",
       "  </thead>\n",
       "  <tbody>\n",
       "    <tr>\n",
       "      <th>138</th>\n",
       "      <td>Monaco</td>\n",
       "      <td>16271.5</td>\n",
       "    </tr>\n",
       "    <tr>\n",
       "      <th>122</th>\n",
       "      <td>Macau</td>\n",
       "      <td>16183.0</td>\n",
       "    </tr>\n",
       "    <tr>\n",
       "      <th>184</th>\n",
       "      <td>Singapore</td>\n",
       "      <td>6482.2</td>\n",
       "    </tr>\n",
       "    <tr>\n",
       "      <th>91</th>\n",
       "      <td>Hong Kong</td>\n",
       "      <td>6355.7</td>\n",
       "    </tr>\n",
       "    <tr>\n",
       "      <th>78</th>\n",
       "      <td>Gibraltar</td>\n",
       "      <td>3989.7</td>\n",
       "    </tr>\n",
       "    <tr>\n",
       "      <th>74</th>\n",
       "      <td>Gaza Strip</td>\n",
       "      <td>3968.8</td>\n",
       "    </tr>\n",
       "    <tr>\n",
       "      <th>129</th>\n",
       "      <td>Malta</td>\n",
       "      <td>1266.5</td>\n",
       "    </tr>\n",
       "    <tr>\n",
       "      <th>22</th>\n",
       "      <td>Bermuda</td>\n",
       "      <td>1241.0</td>\n",
       "    </tr>\n",
       "    <tr>\n",
       "      <th>127</th>\n",
       "      <td>Maldives</td>\n",
       "      <td>1196.7</td>\n",
       "    </tr>\n",
       "    <tr>\n",
       "      <th>15</th>\n",
       "      <td>Bahrain</td>\n",
       "      <td>1050.5</td>\n",
       "    </tr>\n",
       "  </tbody>\n",
       "</table>\n",
       "</div>"
      ],
      "text/plain": [
       "        Country  Pop. Density (per sq. mi.)\n",
       "138      Monaco                     16271.5\n",
       "122       Macau                     16183.0\n",
       "184   Singapore                      6482.2\n",
       "91    Hong Kong                      6355.7\n",
       "78    Gibraltar                      3989.7\n",
       "74   Gaza Strip                      3968.8\n",
       "129       Malta                      1266.5\n",
       "22      Bermuda                      1241.0\n",
       "127    Maldives                      1196.7\n",
       "15      Bahrain                      1050.5"
      ]
     },
     "execution_count": 9,
     "metadata": {},
     "output_type": "execute_result"
    }
   ],
   "source": [
    "top_10_density = data.sort_values(by='Pop. Density (per sq. mi.)', ascending=False).head(10)\n",
    "top_10_density[['Country', 'Pop. Density (per sq. mi.)']]"
   ]
  },
  {
   "cell_type": "markdown",
   "id": "387978ac-1257-4eca-ad89-622d2f60bc46",
   "metadata": {},
   "source": [
    "### Analiz ve Yorumlama"
   ]
  },
  {
   "cell_type": "markdown",
   "id": "f4fec322-943c-4055-b346-2b6230ba154d",
   "metadata": {},
   "source": [
    "`Pop. Density (per sq. mi.)` sütununa göre veriyi büyükten küçüğe sıralayıp listenin başındaki 10 ülkeyi seçtik. Sonuçlar oldukça ilginç: Listenin tamamı, yüzölçümü çok küçük olan şehir devletleri veya adacıklardan (Makao, Monako, Hong Kong, Singapur gibi) oluşuyor. Bu durum, bu yerlerde dar bir alanda çok sayıda insanın yaşamasının nüfus yoğunluğunu ne kadar artırdığını açıkça gösteriyor."
   ]
  }
 ],
 "metadata": {
  "kernelspec": {
   "display_name": "Python 3 (ipykernel)",
   "language": "python",
   "name": "python3"
  },
  "language_info": {
   "codemirror_mode": {
    "name": "ipython",
    "version": 3
   },
   "file_extension": ".py",
   "mimetype": "text/x-python",
   "name": "python",
   "nbconvert_exporter": "python",
   "pygments_lexer": "ipython3",
   "version": "3.11.10"
  }
 },
 "nbformat": 4,
 "nbformat_minor": 5
}
