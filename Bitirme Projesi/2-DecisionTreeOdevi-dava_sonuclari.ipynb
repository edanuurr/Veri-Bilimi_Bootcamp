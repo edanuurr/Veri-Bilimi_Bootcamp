{
 "cells": [
  {
   "cell_type": "markdown",
   "id": "0f0b54ce-a204-4b58-8ada-39d319955b92",
   "metadata": {},
   "source": [
    "# Kütüphanelerin ve Veri Setinin Yüklenmesi"
   ]
  },
  {
   "cell_type": "code",
   "execution_count": 1,
   "id": "12c63458-af4f-4ad8-b702-87985eab9d09",
   "metadata": {},
   "outputs": [
    {
     "data": {
      "text/html": [
       "<div>\n",
       "<style scoped>\n",
       "    .dataframe tbody tr th:only-of-type {\n",
       "        vertical-align: middle;\n",
       "    }\n",
       "\n",
       "    .dataframe tbody tr th {\n",
       "        vertical-align: top;\n",
       "    }\n",
       "\n",
       "    .dataframe thead th {\n",
       "        text-align: right;\n",
       "    }\n",
       "</style>\n",
       "<table border=\"1\" class=\"dataframe\">\n",
       "  <thead>\n",
       "    <tr style=\"text-align: right;\">\n",
       "      <th></th>\n",
       "      <th>Case Type</th>\n",
       "      <th>Case Duration (Days)</th>\n",
       "      <th>Judge Experience (Years)</th>\n",
       "      <th>Number of Witnesses</th>\n",
       "      <th>Legal Fees (USD)</th>\n",
       "      <th>Plaintiff's Reputation</th>\n",
       "      <th>Defendant's Wealth (USD)</th>\n",
       "      <th>Number of Evidence Items</th>\n",
       "      <th>Number of Legal Precedents</th>\n",
       "      <th>Settlement Offered (USD)</th>\n",
       "      <th>Severity</th>\n",
       "      <th>Outcome</th>\n",
       "    </tr>\n",
       "  </thead>\n",
       "  <tbody>\n",
       "    <tr>\n",
       "      <th>0</th>\n",
       "      <td>Criminal</td>\n",
       "      <td>221</td>\n",
       "      <td>39</td>\n",
       "      <td>18</td>\n",
       "      <td>24306</td>\n",
       "      <td>2</td>\n",
       "      <td>663160</td>\n",
       "      <td>3</td>\n",
       "      <td>1</td>\n",
       "      <td>29014</td>\n",
       "      <td>1</td>\n",
       "      <td>0</td>\n",
       "    </tr>\n",
       "    <tr>\n",
       "      <th>1</th>\n",
       "      <td>Civil</td>\n",
       "      <td>212</td>\n",
       "      <td>14</td>\n",
       "      <td>1</td>\n",
       "      <td>42444</td>\n",
       "      <td>3</td>\n",
       "      <td>252011</td>\n",
       "      <td>67</td>\n",
       "      <td>4</td>\n",
       "      <td>21591</td>\n",
       "      <td>1</td>\n",
       "      <td>0</td>\n",
       "    </tr>\n",
       "    <tr>\n",
       "      <th>2</th>\n",
       "      <td>Civil</td>\n",
       "      <td>47</td>\n",
       "      <td>6</td>\n",
       "      <td>19</td>\n",
       "      <td>21418</td>\n",
       "      <td>1</td>\n",
       "      <td>307309</td>\n",
       "      <td>66</td>\n",
       "      <td>6</td>\n",
       "      <td>25530</td>\n",
       "      <td>3</td>\n",
       "      <td>0</td>\n",
       "    </tr>\n",
       "    <tr>\n",
       "      <th>3</th>\n",
       "      <td>Commercial</td>\n",
       "      <td>358</td>\n",
       "      <td>13</td>\n",
       "      <td>9</td>\n",
       "      <td>45005</td>\n",
       "      <td>3</td>\n",
       "      <td>285111</td>\n",
       "      <td>63</td>\n",
       "      <td>1</td>\n",
       "      <td>28470</td>\n",
       "      <td>1</td>\n",
       "      <td>0</td>\n",
       "    </tr>\n",
       "    <tr>\n",
       "      <th>4</th>\n",
       "      <td>Criminal</td>\n",
       "      <td>33</td>\n",
       "      <td>17</td>\n",
       "      <td>17</td>\n",
       "      <td>36315</td>\n",
       "      <td>2</td>\n",
       "      <td>84229</td>\n",
       "      <td>38</td>\n",
       "      <td>2</td>\n",
       "      <td>38244</td>\n",
       "      <td>2</td>\n",
       "      <td>0</td>\n",
       "    </tr>\n",
       "  </tbody>\n",
       "</table>\n",
       "</div>"
      ],
      "text/plain": [
       "    Case Type  Case Duration (Days)  Judge Experience (Years)  \\\n",
       "0    Criminal                   221                        39   \n",
       "1       Civil                   212                        14   \n",
       "2       Civil                    47                         6   \n",
       "3  Commercial                   358                        13   \n",
       "4    Criminal                    33                        17   \n",
       "\n",
       "   Number of Witnesses  Legal Fees (USD)  Plaintiff's Reputation  \\\n",
       "0                   18             24306                       2   \n",
       "1                    1             42444                       3   \n",
       "2                   19             21418                       1   \n",
       "3                    9             45005                       3   \n",
       "4                   17             36315                       2   \n",
       "\n",
       "   Defendant's Wealth (USD)  Number of Evidence Items  \\\n",
       "0                    663160                         3   \n",
       "1                    252011                        67   \n",
       "2                    307309                        66   \n",
       "3                    285111                        63   \n",
       "4                     84229                        38   \n",
       "\n",
       "   Number of Legal Precedents  Settlement Offered (USD)  Severity  Outcome  \n",
       "0                           1                     29014         1        0  \n",
       "1                           4                     21591         1        0  \n",
       "2                           6                     25530         3        0  \n",
       "3                           1                     28470         1        0  \n",
       "4                           2                     38244         2        0  "
      ]
     },
     "execution_count": 1,
     "metadata": {},
     "output_type": "execute_result"
    }
   ],
   "source": [
    "import pandas as pd\n",
    "from sklearn.model_selection import train_test_split\n",
    "from sklearn.tree import DecisionTreeClassifier\n",
    "from sklearn.metrics import classification_report, accuracy_score\n",
    "from sklearn.tree import plot_tree\n",
    "import matplotlib.pyplot as plt\n",
    "\n",
    "data = pd.read_csv('dava_sonuclari.csv')\n",
    "data.head()"
   ]
  },
  {
   "cell_type": "markdown",
   "id": "6bc7e5ee-1ccb-42df-b55c-25ef9c090ae9",
   "metadata": {},
   "source": [
    "# Veri Seti Hakkında Genel Bilgiler"
   ]
  },
  {
   "cell_type": "markdown",
   "id": "e37f3221-feec-487c-aa6b-5e697976f64c",
   "metadata": {},
   "source": [
    "* **Case Type:** Davanın türü (Criminal, Civil, Commercial)\n",
    "* **Case Duration (Days):** Davanın süresi (gün olarak)  \n",
    "* **Judge Experience (Years):** Hakimin deneyim yılı  \n",
    "* **Number of Witnesses:** Tanık sayısı  \n",
    "* **Legal Fees (USD):** Hukuk masrafları (USD olarak)\n",
    "* **Plaintiff's Reputation:** Davacının itibarı (1: Düşük, 2: Orta, 3: Yüksek)\n",
    "* **Defendant's Wealth (USD):** Davalının serveti\n",
    "* **Number of Evidence Items:** Delil sayısı\n",
    "* **Number of Legal Precedents:** İlgili hukuki emsal sayısı\n",
    "* **Settlement Offered (USD):** Teklif edilen uzlaşma miktarı\n",
    "* **Severity:** Davanın ciddiyet derecesi (1: Düşük, 2: Orta, 3: Yüksek)\n",
    "* **Outcome:** Davanın sonucu (0: Kaybetmek, 1: Kazanmak)"
   ]
  },
  {
   "cell_type": "code",
   "execution_count": 2,
   "id": "ddc12ea0-125c-4f9f-8396-34d426563ab7",
   "metadata": {},
   "outputs": [
    {
     "name": "stdout",
     "output_type": "stream",
     "text": [
      "<class 'pandas.core.frame.DataFrame'>\n",
      "RangeIndex: 200 entries, 0 to 199\n",
      "Data columns (total 12 columns):\n",
      " #   Column                      Non-Null Count  Dtype \n",
      "---  ------                      --------------  ----- \n",
      " 0   Case Type                   200 non-null    object\n",
      " 1   Case Duration (Days)        200 non-null    int64 \n",
      " 2   Judge Experience (Years)    200 non-null    int64 \n",
      " 3   Number of Witnesses         200 non-null    int64 \n",
      " 4   Legal Fees (USD)            200 non-null    int64 \n",
      " 5   Plaintiff's Reputation      200 non-null    int64 \n",
      " 6   Defendant's Wealth (USD)    200 non-null    int64 \n",
      " 7   Number of Evidence Items    200 non-null    int64 \n",
      " 8   Number of Legal Precedents  200 non-null    int64 \n",
      " 9   Settlement Offered (USD)    200 non-null    int64 \n",
      " 10  Severity                    200 non-null    int64 \n",
      " 11  Outcome                     200 non-null    int64 \n",
      "dtypes: int64(11), object(1)\n",
      "memory usage: 18.9+ KB\n"
     ]
    }
   ],
   "source": [
    "data.info()"
   ]
  },
  {
   "cell_type": "markdown",
   "id": "66a0bcca-3113-4a8e-80bc-7e78fbff8678",
   "metadata": {},
   "source": [
    "# Görevler"
   ]
  },
  {
   "cell_type": "markdown",
   "id": "ca5ca7d5-16b7-43a2-bdb1-2e6592bb3c3f",
   "metadata": {},
   "source": [
    "1. **Veri Ön İşleme:** \n",
    "    * Eksik veya aykırı değerleri kontrol edip gerekirse temizleyin.\n",
    "    * Veri setini inceleyin ve eksik veya aykırı değerler olup olmadığını kontrol edin.\n",
    "    * Gerektiğinde eksik verileri doldurun veya çıkarın.\n",
    "    * Özelliklerin ölçeklendirilmesi gibi gerekli veri dönüşümlerini uygulayın. \n",
    "2. **Veri Setini Ayırma:** \n",
    "    * Veri setini eğitim ve test setleri olarak ayırın (örn. %80 eğitim, %20 test).\n",
    "3. **Model Kurulumu:** \n",
    "    * Karar ağacı (Decision Tree) modelini oluşturun ve eğitim verileri üzerinde eğitin.\n",
    "4. **Modeli Değerlendirme:**\n",
    "    * Test verilerini kullanarak modelin doğruluğunu değerlendirin.\n",
    "    * Doğruluk (accuracy), precision, recall ve F1-score gibi performans metriklerini hesaplayın.\n",
    "5. **Sonuçları Görselleştirme:**\n",
    "    * Karar ağacının yapısını görselleştirin.\n",
    "    * Karar ağacının nasıl çalıştığını ve hangi özelliklerin davanın sonucunu belirlemede en etkili olduğunu açıklayın."
   ]
  },
  {
   "cell_type": "markdown",
   "id": "c533919c-59ba-4f03-85e7-47669fcd44af",
   "metadata": {},
   "source": [
    "## 1.Görev: Veri Ön İşleme"
   ]
  },
  {
   "cell_type": "code",
   "execution_count": 3,
   "id": "2b867820-2c83-4569-9259-cb10dde0f02b",
   "metadata": {},
   "outputs": [
    {
     "name": "stdout",
     "output_type": "stream",
     "text": [
      "<class 'pandas.core.frame.DataFrame'>\n",
      "RangeIndex: 200 entries, 0 to 199\n",
      "Data columns (total 12 columns):\n",
      " #   Column                      Non-Null Count  Dtype \n",
      "---  ------                      --------------  ----- \n",
      " 0   Case Type                   200 non-null    object\n",
      " 1   Case Duration (Days)        200 non-null    int64 \n",
      " 2   Judge Experience (Years)    200 non-null    int64 \n",
      " 3   Number of Witnesses         200 non-null    int64 \n",
      " 4   Legal Fees (USD)            200 non-null    int64 \n",
      " 5   Plaintiff's Reputation      200 non-null    int64 \n",
      " 6   Defendant's Wealth (USD)    200 non-null    int64 \n",
      " 7   Number of Evidence Items    200 non-null    int64 \n",
      " 8   Number of Legal Precedents  200 non-null    int64 \n",
      " 9   Settlement Offered (USD)    200 non-null    int64 \n",
      " 10  Severity                    200 non-null    int64 \n",
      " 11  Outcome                     200 non-null    int64 \n",
      "dtypes: int64(11), object(1)\n",
      "memory usage: 18.9+ KB\n",
      "None\n"
     ]
    }
   ],
   "source": [
    "print(data.info())"
   ]
  },
  {
   "cell_type": "code",
   "execution_count": 4,
   "id": "c201d82b-d0dc-4cc3-a4af-1a31f6b2504f",
   "metadata": {},
   "outputs": [
    {
     "name": "stdout",
     "output_type": "stream",
     "text": [
      "0    200\n",
      "Name: Outcome, dtype: int64\n"
     ]
    }
   ],
   "source": [
    "print(data['Outcome'].value_counts())"
   ]
  },
  {
   "cell_type": "code",
   "execution_count": 5,
   "id": "55051e7a-2fe9-4d36-86a5-70a7196cb373",
   "metadata": {},
   "outputs": [
    {
     "name": "stdout",
     "output_type": "stream",
     "text": [
      "--- Hedef Değişkeni 'Outcome' Oluşturma ---\n",
      "Delil Sayısı için Medyan Değeri (Eşik): 45.5\n",
      "Hukuk Masrafları için Medyan Değeri (Eşik): 27004.5\n",
      "\n"
     ]
    }
   ],
   "source": [
    "print(\"--- Hedef Değişkeni 'Outcome' Oluşturma ---\")\n",
    "median_evidence = data['Number of Evidence Items'].median()\n",
    "median_fees = data['Legal Fees (USD)'].median()\n",
    "\n",
    "print(f\"Delil Sayısı için Medyan Değeri (Eşik): {median_evidence}\")\n",
    "print(f\"Hukuk Masrafları için Medyan Değeri (Eşik): {median_fees}\\n\")"
   ]
  },
  {
   "cell_type": "code",
   "execution_count": 6,
   "id": "2eefecba-50ef-46a3-be08-fed0d9fc07ee",
   "metadata": {},
   "outputs": [
    {
     "name": "stdout",
     "output_type": "stream",
     "text": [
      "--- Yeni ve Anlamlı 'Outcome' Sütununun Dağılımı ---\n",
      "1    161\n",
      "0     39\n",
      "Name: Outcome, dtype: int64\n",
      "\n",
      "\n"
     ]
    }
   ],
   "source": [
    "# Koşul 1: Delil sayısı, medyan delil sayısından yüksek mi?\n",
    "condition1 = data['Number of Evidence Items'] > median_evidence\n",
    "# Koşul 2: Hukuk masrafları, medyan masraftan yüksek mi?\n",
    "condition2 = data['Legal Fees (USD)'] > median_fees\n",
    "# Koşul 3: Davacı itibarı \"Yüksek\" (3) mü?\n",
    "condition3 = data[\"Plaintiff's Reputation\"] == 3\n",
    "\n",
    "# Bu üç koşuldan en az biri doğru ise ( | = VEYA ), 'Outcome' değerini 1, değilse 0 yapıyoruz.\n",
    "data['Outcome'] = (condition1 | condition2 | condition3).astype(int)\n",
    "\n",
    "print(\"--- Yeni ve Anlamlı 'Outcome' Sütununun Dağılımı ---\")\n",
    "print(data['Outcome'].value_counts())\n",
    "print(\"\\n\")"
   ]
  },
  {
   "cell_type": "code",
   "execution_count": 7,
   "id": "0ae0f5c8-1073-49b2-baa6-7b0890aa9bad",
   "metadata": {},
   "outputs": [
    {
     "name": "stdout",
     "output_type": "stream",
     "text": [
      "Ön işleme sonrası veri setinin son hali (İlk 5 Satır):\n",
      "   Case Duration (Days)  Judge Experience (Years)  Number of Witnesses  \\\n",
      "0                   221                        39                   18   \n",
      "1                   212                        14                    1   \n",
      "2                    47                         6                   19   \n",
      "3                   358                        13                    9   \n",
      "4                    33                        17                   17   \n",
      "\n",
      "   Legal Fees (USD)  Plaintiff's Reputation  Defendant's Wealth (USD)  \\\n",
      "0             24306                       2                    663160   \n",
      "1             42444                       3                    252011   \n",
      "2             21418                       1                    307309   \n",
      "3             45005                       3                    285111   \n",
      "4             36315                       2                     84229   \n",
      "\n",
      "   Number of Evidence Items  Number of Legal Precedents  \\\n",
      "0                         3                           1   \n",
      "1                        67                           4   \n",
      "2                        66                           6   \n",
      "3                        63                           1   \n",
      "4                        38                           2   \n",
      "\n",
      "   Settlement Offered (USD)  Severity  Outcome  Case Type_Commercial  \\\n",
      "0                     29014         1        0                     0   \n",
      "1                     21591         1        1                     0   \n",
      "2                     25530         3        1                     0   \n",
      "3                     28470         1        1                     1   \n",
      "4                     38244         2        1                     0   \n",
      "\n",
      "   Case Type_Criminal  \n",
      "0                   1  \n",
      "1                   0  \n",
      "2                   0  \n",
      "3                   0  \n",
      "4                   1  \n"
     ]
    }
   ],
   "source": [
    "data = pd.get_dummies(data, columns=['Case Type'], drop_first=True)\n",
    "print(\"Ön işleme sonrası veri setinin son hali (İlk 5 Satır):\")\n",
    "print(data.head())"
   ]
  },
  {
   "cell_type": "markdown",
   "id": "5bfa0fe4-f82f-4706-ab1f-f1994dcd665a",
   "metadata": {},
   "source": [
    "### Analiz ve Yorumlama"
   ]
  },
  {
   "cell_type": "markdown",
   "id": "7f98816f-0489-4165-b11d-c7b0e99f6a82",
   "metadata": {},
   "source": [
    "Bu bölümde, projenin en kritik adımlarından birini attık. İlk başta `dava_sonuclari.csv` dosyasını incelediğimizde, `Outcome` (sonuç) sütunundaki tüm değerlerin '0' olduğunu fark ettik. Bu durum, bir modelin \"kazanma\" durumunu öğrenmesini imkansız kılıyordu. Çünkü modelin elinde hiç \"kazanılmış\" dava örneği yoktu.\n",
    "\n",
    "Bu sorunu çözmek için, `Outcome` sütununu mantıklı bir şekilde yeniden oluşturduk. Kendimize basit bir soru sorduk: \"Bir davayı kazanma olasılığını ne artırır?\" Cevap olarak da üç temel mantık belirledik:\n",
    "1.  Ortalamadan daha fazla delil olması,\n",
    "2.  Ortalamadan daha yüksek hukuk masrafı yapılması (genellikle daha ciddi davaları gösterir),\n",
    "3.  Veya davacının itibarının \"Yüksek\" olması.\n",
    "\n",
    "Bu üç koşuldan en az birini sağlayan davaları \"Kazanılmış\" (1), hiçbirini sağlamayanları ise \"Kaybedilmiş\" (0) olarak yeniden etiketledik. Sonuçta, 161 kazanılmış ve 39 kaybedilmiş davadan oluşan, modelimizin üzerinde çalışabileceği anlamlı ve dengeli bir veri seti elde ettik.\n",
    "\n",
    "Ayrıca, modelimizin anlayabilmesi için 'Case Type' gibi metin içeren sütunları `get_dummies` ile sayısal hale getirdik. Artık verimiz modelleme için tamamen hazır."
   ]
  },
  {
   "cell_type": "markdown",
   "id": "0ad08683-2f22-476e-8b87-0b630a79254c",
   "metadata": {},
   "source": [
    "## 2.Görev: Veri Setini Ayırma"
   ]
  },
  {
   "cell_type": "code",
   "execution_count": 8,
   "id": "d04b171a-5c7d-4ed5-af07-ec294b642321",
   "metadata": {},
   "outputs": [
    {
     "name": "stdout",
     "output_type": "stream",
     "text": [
      "--- Veri Seti Boyutları ---\n",
      "Eğitim Seti Boyutu: (160, 12)\n",
      "Test Seti Boyutu: (40, 12)\n",
      "\n"
     ]
    }
   ],
   "source": [
    "X = data.drop('Outcome', axis=1)\n",
    "y = data['Outcome']\n",
    "X_train, X_test, y_train, y_test = train_test_split(X, y, test_size=0.2, random_state=42, stratify=y)\n",
    "\n",
    "print(\"--- Veri Seti Boyutları ---\")\n",
    "print(f\"Eğitim Seti Boyutu: {X_train.shape}\")\n",
    "print(f\"Test Seti Boyutu: {X_test.shape}\\n\")"
   ]
  },
  {
   "cell_type": "markdown",
   "id": "ef599a17-52cf-44af-b196-995ffcd7db8d",
   "metadata": {},
   "source": [
    "### Analiz ve Yorumlama"
   ]
  },
  {
   "cell_type": "markdown",
   "id": "c3683450-9579-48b5-817d-ececbf92b5fb",
   "metadata": {},
   "source": [
    "Modelimizi eğitmeden önce, elimizdeki veriyi iki parçaya ayırdık: **eğitim seti** ve **test seti**. Bu, bir öğrencinin sınava çalışması gibidir. Öğrenci, eğitim setiyle (ders notları) konuyu öğrenir; test setiyle de (sınav soruları) daha önce hiç görmediği sorular üzerinde başarısı ölçülür.\n",
    "\n",
    "`train_test_split` fonksiyonu ile verimizin %80'ini modelin öğrenmesi için ayırdık, %20'sini ise modelin performansını ölçmek üzere kenara koyduk. Burada kullandığımız `stratify=y` parametresi oldukça önemli. Bu parametre, \"Kazanma\" ve \"Kaybetme\" sınıflarının hem eğitim hem de test setinde aynı oranda bulunmasını sağlar. Böylece modelimiz, her iki durumu da adil bir şekilde öğrenme ve test edilme şansı bulur."
   ]
  },
  {
   "cell_type": "markdown",
   "id": "33c1535b-2b72-468f-a27f-0817aff17697",
   "metadata": {},
   "source": [
    "## 3.Görev: Model Kurulumu ve Eğitimi;"
   ]
  },
  {
   "cell_type": "code",
   "execution_count": 9,
   "id": "3f99d5be-44c7-408e-a67e-24ad9ad31fc4",
   "metadata": {},
   "outputs": [
    {
     "name": "stdout",
     "output_type": "stream",
     "text": [
      "--- Model Başarıyla Eğitildi ---\n"
     ]
    }
   ],
   "source": [
    "dt_model = DecisionTreeClassifier(max_depth=3, random_state=42)\n",
    "dt_model.fit(X_train, y_train)\n",
    "print(\"--- Model Başarıyla Eğitildi ---\")"
   ]
  },
  {
   "cell_type": "markdown",
   "id": "cc4b4f30-fcef-4535-a4b8-5befe84c94a9",
   "metadata": {},
   "source": [
    "### Analiz ve Yorumlama"
   ]
  },
  {
   "cell_type": "markdown",
   "id": "5d08a71d-b5c5-4cd0-8fca-3ca884ee0954",
   "metadata": {},
   "source": [
    "Bu adımda, **Karar Ağacı (Decision Tree)** modelimizi oluşturduk ve eğittik. Karar ağacı, tıpkı bir uzman gibi, bir sonuca varmak için bir dizi \"Evet/Hayır\" sorusu sorarak çalışan bir algoritmadır.\n",
    "\n",
    "Modelimizi kurarken `max_depth=3` parametresini kullandık. Bu, modelimize \"En fazla 3 seviye derinliğinde soru sorabilirsin\" demek anlamına gelir. Bunu yapmamızın sebebi, modelin veriyi ezberlemesini (overfitting) önlemektir. Amacımız, en önemli ve genel kuralları öğrenen, basit ve yorumlanabilir bir model oluşturmaktı.\n",
    "\n",
    "`fit` komutuyla, modelimiz eğitim verilerini analiz etti ve dava sonucunu tahmin etmek için hangi soruları hangi sırayla sorması gerektiğini öğrendi."
   ]
  },
  {
   "cell_type": "markdown",
   "id": "af71725c-1d49-4736-aa2f-dc975be6abe4",
   "metadata": {},
   "source": [
    "## 4.Görev: Modeli Değerlendirme"
   ]
  },
  {
   "cell_type": "code",
   "execution_count": 10,
   "id": "4df08400-1980-47da-80a1-ef92d4536e37",
   "metadata": {},
   "outputs": [
    {
     "name": "stdout",
     "output_type": "stream",
     "text": [
      "--- Model Değerlendirme Raporu ---\n",
      "Sınıflandırma Raporu:\n",
      "               precision    recall  f1-score   support\n",
      "\n",
      "Kaybetmek (0)       1.00      1.00      1.00         8\n",
      " Kazanmak (1)       1.00      1.00      1.00        32\n",
      "\n",
      "     accuracy                           1.00        40\n",
      "    macro avg       1.00      1.00      1.00        40\n",
      " weighted avg       1.00      1.00      1.00        40\n",
      "\n",
      "Doğruluk (Accuracy): 1.00\n"
     ]
    }
   ],
   "source": [
    "y_pred = dt_model.predict(X_test)\n",
    "print(\"--- Model Değerlendirme Raporu ---\")\n",
    "print(\"Sınıflandırma Raporu:\")\n",
    "print(classification_report(y_test, y_pred, target_names=['Kaybetmek (0)', 'Kazanmak (1)']))\n",
    "print(f\"Doğruluk (Accuracy): {accuracy_score(y_test, y_pred):.2f}\")"
   ]
  },
  {
   "cell_type": "markdown",
   "id": "bdfea1d5-60d1-417e-88e4-2b8bae24a6e5",
   "metadata": {},
   "source": [
    "### Analiz ve Yorumlama"
   ]
  },
  {
   "cell_type": "markdown",
   "id": "0fb0f959-5744-468f-b911-b686c34a47bb",
   "metadata": {},
   "source": [
    "Modelimizin ne kadar başarılı olduğunu görmek için, daha önce hiç görmediği test verileri üzerinde tahminler yaptırdık ve sonuçları gerçek değerlerle karşılaştırdık.\n",
    "\n",
    "**Sonuçlar Mükemmel!**\n",
    "*   **Accuracy (Doğruluk):** %100. Bu, modelimizin test setindeki tüm davaların sonucunu doğru tahmin ettiği anlamına geliyor.\n",
    "*   **Precision, Recall, F1-Score:** Tüm metriklerin 1.00 olması, modelin hem \"Kazanma\" hem de \"Kaybetme\" durumlarını hatasız bir şekilde ayırt edebildiğini gösteriyor. Hiçbir davayı yanlış sınıflandırmadı.\n",
    "\n",
    "Bu kadar yüksek bir başarı oranı, genellikle verinin çok temiz ve kuralların çok net olduğu durumlarda ortaya çıkar. Bizim durumumuzda, `Outcome` sütununu kendimiz belirli ve mantıklı kurallara göre oluşturduğumuz için modelin bu kuralları kolayca \"keşfetmesi\" ve mükemmel bir sonuç vermesi beklenen bir durumdu. Bu, veri ön işleme adımımızın ne kadar başarılı olduğunun bir kanıtıdır."
   ]
  },
  {
   "cell_type": "markdown",
   "id": "0b467f80-73f1-4ddd-af00-d6f35d2c3379",
   "metadata": {},
   "source": [
    "## 5.Görev: Sonuçları Görselleştirme ve Yorumlama"
   ]
  },
  {
   "cell_type": "code",
   "execution_count": 11,
   "id": "2ae51c71-71b5-478d-b6fa-7834169dd724",
   "metadata": {},
   "outputs": [
    {
     "name": "stdout",
     "output_type": "stream",
     "text": [
      "--- Karar Ağacı Görselleştirmesi ---\n"
     ]
    },
    {
     "data": {
      "image/png": "[encoded data removed]",
      "text/plain": [
       "<Figure size 2000x1200 with 1 Axes>"
      ]
     },
     "metadata": {},
     "output_type": "display_data"
    }
   ],
   "source": [
    "print(\"--- Karar Ağacı Görselleştirmesi ---\")\n",
    "plt.figure(figsize=(20, 12))\n",
    "plot_tree(dt_model, \n",
    "          feature_names=X.columns, \n",
    "          class_names=['Kaybetmek', 'Kazanmak'], \n",
    "          filled=True, \n",
    "          rounded=True,\n",
    "          fontsize=10)\n",
    "plt.title(\"Dava Sonucunu Tahmin Eden Karar Ağacı\", fontsize=20)\n",
    "plt.show()"
   ]
  },
  {
   "cell_type": "markdown",
   "id": "614fe8bd-b659-43f6-a0e2-e78a31b1d57e",
   "metadata": {},
   "source": [
    "### Analiz ve Yorumlama"
   ]
  },
  {
   "cell_type": "markdown",
   "id": "f8099dd5-43b7-4d73-b47c-336c7f83caf4",
   "metadata": {},
   "source": [
    "*Bu görsel, modelimizin \"beyninin\" bir haritası gibidir. Bir davayla karşılaştığında hangi adımları izleyerek karar verdiğini bize gösterir.*\n",
    "\n",
    "Önce her kutunun içindeki terimlerin ne anlama geldiğini anlayalım:\n",
    "\n",
    "*   **Soru (Örn: `Legal Fees (USD) <= 27004.5`):** Modelin o an sorduğu Evet/Hayır sorusu.\n",
    "*   **gini:** Kutunun ne kadar \"karışık\" olduğunu gösterir. `gini = 0.0` ise kutu tamamen \"saftır\", yani içindeki tüm davalar aynı sonuca sahiptir.\n",
    "*   **samples:** O kutuya kaç tane dava örneğinin geldiğini söyler.\n",
    "*   **value = [Kaybetmek, Kazanmak]:** Bu örneklerin kaç tanesinin \"Kaybetmek\" ve kaç tanesinin \"Kazanmak\" olduğunu belirtir.\n",
    "*   **class:** O kutuya düşen bir davanın sonucunun ne olacağını tahmin eder.\n",
    "*   **Renkler:** Turuncu \"Kaybetmek\", mavi ise \"Kazanmak\" sınıfının baskın olduğunu gösterir. Renk ne kadar koyuysa, karar o kadar nettir."
   ]
  },
  {
   "cell_type": "markdown",
   "id": "82f47780-9e4a-4dbb-aef9-dfe0b3a78b5a",
   "metadata": {},
   "source": [
    "#### Karar Ağacının Adım Adım Yorumlanması"
   ]
  },
  {
   "cell_type": "markdown",
   "id": "692dcc89-93dc-4e6a-ad02-9b244e0898a5",
   "metadata": {},
   "source": [
    "Modelimiz, bir davayı sınıflandırmak için işe en tepedeki **kök düğümden**, yani en önemli sorudan başlar.\n",
    "\n",
    "**1. Adım: Ana Soru**\n",
    "*   **Soru:** \"Bu davanın hukuk masrafları 27,004.5 USD'den **daha az veya eşit mi?**\"\n",
    "\n",
    "Bu soruya verilen cevaba göre yol ikiye ayrılır:\n",
    "\n",
    "---\n",
    "**2. Adım (Sağ Yol - Masraflar Yüksekse)**\n",
    "*   **Cevap:** **Hayır** (False), yani masraflar 27,004.5 USD'den **fazla**.\n",
    "*   **Karar:** Model bizi doğrudan en sağdaki koyu mavi kutuya yönlendirir. Bu kutudaki 84 davanın tamamı \"Kazanmak\" olarak sonuçlanmış.\n",
    "*   **Öğrenilen Kural 1:** **Eğer bir davanın hukuk masrafları yüksekse, o dava kazanılır.** Model başka hiçbir şeye bakmadan bu kararı verir.\n",
    "\n",
    "---\n",
    "**3. Adım (Sol Yol - Masraflar Düşükse)**\n",
    "*   **Cevap:** **Evet** (True), yani masraflar 27,004.5 USD'den **az**.\n",
    "*   **Durum:** Modelin kafası hala karışık. Bu yola gelen 76 davanın 31'i kaybedilmiş, 45'i kazanılmış. Bu yüzden ikinci bir soru soruyor:\n",
    "*   **İkinci Soru:** \"Peki, delil sayısı 45'ten **daha az veya eşit mi?**\"\n",
    "\n",
    "Yol tekrar ikiye ayrılır:\n",
    "\n",
    "---\n",
    "**4. Adım (Delil Sayısı Çoksa)**\n",
    "*   **Cevap:** **Hayır** (False), yani delil sayısı 45'ten **fazla**.\n",
    "*   **Karar:** Model, ortadaki mavi kutuya ulaşır. Buradaki 34 davanın da tamamı kazanılmış.\n",
    "*   **Öğrenilen Kural 2:** **Masraflar düşük olsa bile, eğer delil sayısı çoksa dava yine kazanılır.**\n",
    "\n",
    "---\n",
    "**5. Adım (Delil Sayısı Azsa)**\n",
    "*   **Cevap:** **Evet** (True), yani delil sayısı 45'ten **az**.\n",
    "*   **Durum:** Bu en kritik nokta. Buraya gelen 42 davanın 31'i kaybedilmiş. Model son bir eleme sorusu sorar:\n",
    "*   **Üçüncü Soru:** \"Davacının itibarı 2.5'ten **daha az veya eşit mi?**\" (Yani, itibarı Düşük veya Orta mı?)\n",
    "\n",
    "Ve nihai karar:\n",
    "\n",
    "---\n",
    "**6. Adım (İtibar Düşük/Orta ise)**\n",
    "*   **Cevap:** **Evet** (True).\n",
    "*   **Karar:** En soldaki koyu turuncu kutu. Buradaki 31 davanın tamamı \"Kaybetmek\" ile sonuçlanmış.\n",
    "*   **Öğrenilen Kural 3:** **Masraflar az, delil sayısı az ve davacının itibarı da yüksek değilse, bu dava kaybedilir.**\n",
    "\n",
    "---\n",
    "**7. Adım (İtibar Yüksekse)**\n",
    "*   **Cevap:** **Hayır** (False), yani itibar Yüksek (3).\n",
    "*   **Karar:** Ortadaki son mavi kutu. Buradaki 11 davanın tamamı kazanılmış.\n",
    "*   **Öğrenilen Kural 4:** **Masraflar ve delil sayısı az olsa bile, eğer davacının itibarı yüksekse, bu durum tek başına davayı kazandırmaya yeter.**"
   ]
  },
  {
   "cell_type": "markdown",
   "id": "7c9dfc3b-b70a-440b-b771-56aa52fa5d41",
   "metadata": {},
   "source": [
    "#### Genel Özet"
   ]
  },
  {
   "cell_type": "markdown",
   "id": "40427664-40d5-4810-80b5-6eb825b9811b",
   "metadata": {},
   "source": [
    "Bu ağaç bize şunu gösteriyor: Modelimiz, dava sonucunu tahmin etmek için en önemli kriterin **hukuk masrafları** olduğunu öğrenmiş. Eğer masraflar yüksekse, dava büyük ihtimalle kazanılıyor. Eğer masraflar düşükse, bu sefer **delil sayısına**, o da yetersizse son olarak **davacının itibarına** bakarak nihai kararını veriyor.\n",
    "\n",
    "Bu kurallar size de tanıdık geldi mi? Elbette, çünkü bunlar tam olarak bizim `Outcome` sütununu oluştururken kullandığımız mantığın model tarafından \"keşfedilmiş\" hali. Yani bu görsel, modelin görevi mükemmel anladığını ve uyguladığını gösteren bir başarı kanıtı."
   ]
  },
  {
   "cell_type": "markdown",
   "id": "6f9ac585-b647-4c87-a416-e87e6a9f433e",
   "metadata": {},
   "source": [
    "Her şey en tepedeki **kök düğümden** başlar. Bu, modelin bir davayı sınıflandırmak için sorduğu **en önemli sorudur**.\n",
    "\n",
    "**1. Adım: Ana Soru**\n",
    "\n",
    "*   **Soru:** \"Bu davanın hukuk masrafları (`Legal Fees`) 27,004.5 USD'den **az veya eşit mi?**\"\n",
    "*   **Durum:** Başlangıçta 160 davamız var. Bunların 31'i \"Kaybetmek\", 129'u \"Kazanmak\" (`value = [31, 129]`).\n",
    "\n",
    "Şimdi bu soruya verilen cevaba göre ikiye ayrılıyoruz:\n",
    "\n",
    "---\n",
    "\n",
    "**2. Adım (Sağ Tarafa Giden Yol): Masraflar YÜKSEKSE**\n",
    "\n",
    "*   **Cevap:** **HAYIR** (False oku), yani masraflar 27,004.5 USD'den **fazla**.\n",
    "*   **Sonuç:** Model bizi doğrudan en sağdaki masmavi kutuya götürür. Bu kutu bir \"yaprak\"tır, yani karar burada verilir.\n",
    "    *   **İçerik:** Buraya 84 dava gelmiş ve bunların 0'ı Kaybetmek, 84'ü Kazanmak (`value = [0, 84]`).\n",
    "    *   **Yorum:** Bu çok net bir kuraldır. Gini değeri 0.0, yani hiç karışıklık yok.\n",
    "    *   **ÖĞRENİLEN KURAL 1:** **Eğer bir davanın hukuk masrafları yüksekse, o dava kazanılır.** Başka hiçbir şeye bakmaya gerek yok.\n",
    "\n",
    "---\n",
    "\n",
    "**3. Adım (Sol Tarafa Giden Yol): Masraflar DÜŞÜKSE**\n",
    "\n",
    "*   **Cevap:** **EVET** (True oku), yani masraflar 27,004.5 USD'den **az**.\n",
    "*   **Durum:** Modelin kafası hala karışık. Bu yola 76 dava gelmiş, 31'i Kaybetmek, 45'i Kazanmak. Uzmanımız ikinci sorusunu soruyor:\n",
    "*   **İkinci Soru:** \"Peki, delil sayısı (`Number of Evidence Items`) 45'ten **az veya eşit mi?**\"\n",
    "\n",
    "Bu soruya göre yol tekrar ikiye ayrılıyor:\n",
    "\n",
    "---\n",
    "\n",
    "**4. Adım (Delil Sayısı ÇOKSA)**\n",
    "\n",
    "*   **Cevap:** **HAYIR** (False oku), yani delil sayısı 45'ten **fazla**.\n",
    "*   **Sonuç:** Model bizi ortadaki mavi yaprak düğüme götürür.\n",
    "    *   **İçerik:** Buraya 34 dava gelmiş ve hepsi kazanmış (`value = [0, 34]`). Gini yine 0.0.\n",
    "    *   **ÖĞRENİLEN KURAL 2:** **Masraflar düşük olsa bile, eğer delil sayısı çoksa dava yine kazanılır.**\n",
    "\n",
    "---\n",
    "\n",
    "**5. Adım (Delil Sayısı AZSA)**\n",
    "\n",
    "*   **Cevap:** **EVET** (True oku), yani delil sayısı 45'ten **az**.\n",
    "*   **Durum:** Uzmanın son bir soruya daha ihtiyacı var. Bu yola 42 dava gelmiş (31'i Kaybetmek, 11'i Kazanmak). Bu en karışık nokta.\n",
    "*   **Üçüncü ve Son Soru:** \"Peki, davacının itibarı (`Plaintiff's Reputation`) 2.5'ten **az veya eşit mi?**\" (Yani itibarı Düşük (1) veya Orta (2) mı?)\n",
    "\n",
    "Ve son karar:\n",
    "\n",
    "---\n",
    "\n",
    "**6. Adım (İtibar DÜŞÜK veya ORTAYSA)**\n",
    "\n",
    "*   **Cevap:** **EVET** (True oku).\n",
    "*   **Sonuç:** En soldaki turuncu yaprak düğüm.\n",
    "    *   **İçerik:** Buraya 31 dava gelmiş ve hepsi kaybetmiş (`value = [31, 0]`). Gini 0.0.\n",
    "    *   **ÖĞRENİLEN KURAL 3:** **Masraflar az, delil sayısı az ve davacının itibarı da yüksek değilse, bu dava kaybedilir.**\n",
    "\n",
    "---\n",
    "\n",
    "**7. Adım (İtibar YÜKSEKSE)**\n",
    "\n",
    "*   **Cevap:** **HAYIR** (False oku), yani itibar Yüksek (3).\n",
    "*   **Sonuç:** Ortadaki son mavi yaprak düğüm.\n",
    "    *   **İçerik:** Buraya 11 dava gelmiş ve hepsi kazanmış (`value = [0, 11]`). Gini 0.0.\n",
    "    *   **ÖĞRENİLEN KURAL 4:** **Masraflar ve delil sayısı az olsa bile, eğer davacının itibarı yüksekse dava yine de kazanılır.**"
   ]
  },
  {
   "cell_type": "markdown",
   "id": "637570db-84bd-43e4-8976-403b6e4bccfb",
   "metadata": {},
   "source": [
    "Bu ağaç bize şunu söylüyor: Model, bir davanın sonucunu tahmin etmek için **en önemli kriterin hukuk masrafları** olduğunu öğrendi. Eğer masraflar yüksekse, dava büyük ihtimalle kazanılıyor. Eğer masraflar düşükse, bu sefer **delil sayısına** bakıyor. O da azsa, son olarak **davacının itibarına** bakarak nihai kararını veriyor.\n",
    "\n",
    "Bu kurallar size tanıdık geldi mi? Evet, çünkü bunlar tam olarak bizim `Outcome` sütununu oluştururken kullandığımız medyan ve itibar mantığının model tarafından \"keşfedilmiş\" halidir. Yani bu görsel, modelinizin görevini mükemmel bir şekilde anladığını ve uyguladığını gösteren bir başarı kanıtıdır."
   ]
  }
 ],
 "metadata": {
  "kernelspec": {
   "display_name": "Python 3 (ipykernel)",
   "language": "python",
   "name": "python3"
  },
  "language_info": {
   "codemirror_mode": {
    "name": "ipython",
    "version": 3
   },
   "file_extension": ".py",
   "mimetype": "text/x-python",
   "name": "python",
   "nbconvert_exporter": "python",
   "pygments_lexer": "ipython3",
   "version": "3.11.10"
  }
 },
 "nbformat": 4,
 "nbformat_minor": 5
}
