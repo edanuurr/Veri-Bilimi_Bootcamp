{
 "cells": [
  {
   "cell_type": "markdown",
   "id": "4dcb1d45-9ecc-42c5-9f67-76c7425add40",
   "metadata": {},
   "source": [
    "# Kütüphaneler"
   ]
  },
  {
   "cell_type": "code",
   "execution_count": 1,
   "id": "e21703a2-8efe-4e9f-bbbd-b9c7aa62cf9d",
   "metadata": {},
   "outputs": [],
   "source": [
    "import math\n",
    "import random\n",
    "import statistics\n",
    "from collections import Counter\n",
    "from typing import Dict, List, Tuple, Iterable\n",
    "import numpy as np"
   ]
  },
  {
   "cell_type": "markdown",
   "id": "110daa93-0a37-47c1-aa70-95feb5ef4f1d",
   "metadata": {},
   "source": [
    "# Soru 1 – Liste Metotları"
   ]
  },
  {
   "cell_type": "code",
   "execution_count": 2,
   "id": "15533b3c-d1ec-4970-92ae-27f0a6a2d84d",
   "metadata": {},
   "outputs": [
    {
     "name": "stdout",
     "output_type": "stream",
     "text": [
      "Benzersiz Liste:[100, 92, 85, 76]\n",
      "En yüksek not:100\n",
      "En düşük not:76\n",
      "Notların küçükten büyüğe sıralama:[76, 76, 85, 85, 92, 92, 92, 100]\n"
     ]
    }
   ],
   "source": [
    "notlar = [85, 92, 76, 92, 100, 76, 85, 92]\n",
    "benzersiz = list(set(notlar))  # sıralı benzersiz\n",
    "en_yuksek = max(notlar) \n",
    "en_dusuk = min(notlar) \n",
    "sirali = sorted(notlar)\n",
    "print(f\"Benzersiz Liste:{benzersiz}\")\n",
    "print(f\"En yüksek not:{en_yuksek}\")\n",
    "print(f\"En düşük not:{en_dusuk}\")\n",
    "print(f\"Notların küçükten büyüğe sıralama:{sirali}\")"
   ]
  },
  {
   "cell_type": "markdown",
   "id": "1fb9ba96-ba9c-4784-bff0-b6d8af90cc84",
   "metadata": {},
   "source": [
    "# Soru 2 – Sayılar"
   ]
  },
  {
   "cell_type": "code",
   "execution_count": 3,
   "id": "8d4e3ce7-6c8b-4729-a241-fb7fb422fdf4",
   "metadata": {},
   "outputs": [
    {
     "name": "stdout",
     "output_type": "stream",
     "text": [
      "153 -> True\n",
      "370 -> True\n",
      "371 -> True\n",
      "407 -> True\n",
      "123 -> False\n"
     ]
    }
   ],
   "source": [
    "def armstrong(sayi):\n",
    "    toplam = 0\n",
    "    for i in str(sayi):\n",
    "        toplam += int(i) ** 3\n",
    "    return toplam == sayi\n",
    "\n",
    "for n in [153, 370, 371, 407, 123]:\n",
    "    print(n, \"->\", armstrong(n))"
   ]
  },
  {
   "cell_type": "markdown",
   "id": "c0e9c2dd-3e52-4176-922b-e672a68d526d",
   "metadata": {},
   "source": [
    "# Soru 3 – Kümeler"
   ]
  },
  {
   "cell_type": "code",
   "execution_count": 4,
   "id": "0d0e54ed-c540-4214-a1ba-4f2672ac91ad",
   "metadata": {},
   "outputs": [
    {
     "name": "stdout",
     "output_type": "stream",
     "text": [
      "Ortak: {'Python', 'SQL'}\n",
      "Sadece A: {'R', 'Java'}\n",
      "Birleşim: ['C++', 'Java', 'JavaScript', 'Python', 'R', 'SQL']\n"
     ]
    }
   ],
   "source": [
    "A = {\"Python\", \"R\", \"SQL\", \"Java\"}\n",
    "B = {\"C++\", \"Python\", \"JavaScript\", \"SQL\"}\n",
    "print(\"Ortak:\", A & B)\n",
    "print(\"Sadece A:\", A - B)\n",
    "print(\"Birleşim:\", sorted(A | B))"
   ]
  },
  {
   "cell_type": "markdown",
   "id": "74521d1d-0a11-4d39-9e14-58d116e47a25",
   "metadata": {},
   "source": [
    "# Soru 4 – Modüller"
   ]
  },
  {
   "cell_type": "code",
   "execution_count": 5,
   "id": "ca1893f3-19cc-438e-8094-e0ba8f409da9",
   "metadata": {},
   "outputs": [
    {
     "name": "stdout",
     "output_type": "stream",
     "text": [
      "Sayılar: [7, 35, 12, 99, 53, 35, 14, 5, 49, 69]\n",
      "Ortalama: 37.8\n",
      "Std: 28.89221348391293\n"
     ]
    }
   ],
   "source": [
    "random.seed(123)\n",
    "sayilar = [random.randint(1,100) for _ in range(10)]\n",
    "print(\"Sayılar:\", sayilar)\n",
    "print(\"Ortalama:\", statistics.mean(sayilar))\n",
    "print(\"Std:\", statistics.pstdev(sayilar))"
   ]
  },
  {
   "cell_type": "markdown",
   "id": "586a6b28-3f32-4ee0-b16c-a1bb7ce60067",
   "metadata": {},
   "source": [
    "# Soru 5 – Fonksiyonlar"
   ]
  },
  {
   "cell_type": "code",
   "execution_count": 6,
   "id": "35cf7657-f5a2-4108-9211-bb81ab11c910",
   "metadata": {},
   "outputs": [
    {
     "name": "stdout",
     "output_type": "stream",
     "text": [
      "(10, 'eğlenceli', ('veri', 3))\n"
     ]
    }
   ],
   "source": [
    "def kelime_sayaci(metin):\n",
    "    kelimeler = metin.lower().replace(\"!\", \"\").replace(\";\", \"\").replace(\".\", \"\").split()\n",
    "    toplam = len(kelimeler)\n",
    "    en_uzun = max(kelimeler, key=len)\n",
    "    en_sik = Counter(kelimeler).most_common(1)[0]\n",
    "    return toplam, en_uzun, en_sik\n",
    "\n",
    "metin = \"Veri bilimi veri analizi ile birlikte veri! Bilimi; çok eğlenceli.\"\n",
    "print(kelime_sayaci(metin))"
   ]
  },
  {
   "cell_type": "markdown",
   "id": "438eda71-1d81-422d-93c0-4161e5145110",
   "metadata": {},
   "source": [
    "# Soru 6 – Gömülü Fonksiyonlar"
   ]
  },
  {
   "cell_type": "code",
   "execution_count": 7,
   "id": "0c06485d-48ef-49f3-af73-9294f8cdb6e4",
   "metadata": {},
   "outputs": [
    {
     "name": "stdout",
     "output_type": "stream",
     "text": [
      "Çiftler: [12, 18, 24, 16]\n",
      "Kareler: [144, 324, 576, 256]\n",
      "Azalan: [576, 324, 256, 144]\n"
     ]
    }
   ],
   "source": [
    "sayilar = [5, 12, 7, 18, 24, 3, 16]\n",
    "ciftler = list(filter(lambda x: x % 2 == 0, sayilar))\n",
    "kareler = list(map(lambda x: x*x, ciftler))\n",
    "print(\"Çiftler:\", ciftler)\n",
    "print(\"Kareler:\", kareler)\n",
    "print(\"Azalan:\", sorted(kareler, reverse=True))"
   ]
  },
  {
   "cell_type": "markdown",
   "id": "60ed5524-29d0-4e73-bb72-84a20bcb41c5",
   "metadata": {},
   "source": [
    "# Soru 7 – Lambda İfadeleri"
   ]
  },
  {
   "cell_type": "code",
   "execution_count": 8,
   "id": "032fb96a-fe4a-4583-bb29-a3f6b2e70e51",
   "metadata": {},
   "outputs": [
    {
     "name": "stdout",
     "output_type": "stream",
     "text": [
      "['veri', 'bilim', 'analiz', 'python', 'yapayzeka']\n"
     ]
    }
   ],
   "source": [
    "kelimeler = [\"veri\", \"bilim\", \"analiz\", \"yapayzeka\", \"python\"]\n",
    "print(sorted(kelimeler, key=lambda k: len(k)))"
   ]
  },
  {
   "cell_type": "markdown",
   "id": "7bdf235f-c8f0-40d5-902b-437a8233f4c1",
   "metadata": {},
   "source": [
    "# Soru 8 – Metodlar"
   ]
  },
  {
   "cell_type": "code",
   "execution_count": 9,
   "id": "a56e0045-0ab1-498d-a059-64cd4fa3e81f",
   "metadata": {},
   "outputs": [
    {
     "name": "stdout",
     "output_type": "stream",
     "text": [
      "15\n",
      "12\n"
     ]
    }
   ],
   "source": [
    "def rakam_toplami(metin):\n",
    "    toplam = 0\n",
    "    sayi = \"\"\n",
    "    for ch in metin:\n",
    "        if ch.isdigit():\n",
    "            sayi += ch\n",
    "        else:\n",
    "            if sayi:\n",
    "                toplam += int(sayi)\n",
    "                sayi = \"\"\n",
    "    if sayi:\n",
    "        toplam += int(sayi)\n",
    "    return toplam\n",
    "\n",
    "print(rakam_toplami(\"abc12def3\"))\n",
    "print(rakam_toplami(\"00x5y007\"))"
   ]
  },
  {
   "cell_type": "markdown",
   "id": "934faa9c-942f-400e-87b9-ce6dd751a25e",
   "metadata": {},
   "source": [
    "# Soru 9 – (Ekstra) Numpy 1"
   ]
  },
  {
   "cell_type": "code",
   "execution_count": 10,
   "id": "3badf2cf-16f0-4216-a2b5-8aeb00e175ef",
   "metadata": {},
   "outputs": [
    {
     "name": "stdout",
     "output_type": "stream",
     "text": [
      "Dizi: [45  2 28 34 38 17 19 42 22 33]\n",
      "Ortalama: 28.0\n",
      "Standart sapma: 12.489995996796797\n",
      "En büyük değer: 45\n"
     ]
    }
   ],
   "source": [
    "np.random.seed(123)\n",
    "dizi = np.random.randint(0, 51, 10)\n",
    "print(\"Dizi:\", dizi)\n",
    "print(\"Ortalama:\", dizi.mean())\n",
    "print(\"Standart sapma:\", dizi.std())\n",
    "print(\"En büyük değer:\", dizi.max())"
   ]
  },
  {
   "cell_type": "markdown",
   "id": "98226388-9dbf-46e0-99bc-b0554127fb93",
   "metadata": {},
   "source": [
    "# Soru 10 – (Ekstra) Numpy 2"
   ]
  },
  {
   "cell_type": "code",
   "execution_count": 11,
   "id": "857787ab-3e53-42ea-bcc3-eaae1f5406f8",
   "metadata": {},
   "outputs": [
    {
     "name": "stdout",
     "output_type": "stream",
     "text": [
      "Matris:\n",
      " [[0.69646919 0.28613933 0.22685145 0.55131477 0.71946897]\n",
      " [0.42310646 0.9807642  0.68482974 0.4809319  0.39211752]\n",
      " [0.34317802 0.72904971 0.43857224 0.0596779  0.39804426]\n",
      " [0.73799541 0.18249173 0.17545176 0.53155137 0.53182759]\n",
      " [0.63440096 0.84943179 0.72445532 0.61102351 0.72244338]]\n",
      "Sütun ortalamaları: [0.56703001 0.60557535 0.4500321  0.44689989 0.55278034]\n",
      "Binary matris:\n",
      " [[1 0 0 1 1]\n",
      " [0 1 1 0 0]\n",
      " [0 1 0 0 0]\n",
      " [1 0 0 1 1]\n",
      " [1 1 1 1 1]]\n"
     ]
    }
   ],
   "source": [
    "np.random.seed(123)\n",
    "matris = np.random.rand(5, 5)\n",
    "print(\"Matris:\\n\", matris)\n",
    "\n",
    "sutun_ort = matris.mean(axis=0)\n",
    "print(\"Sütun ortalamaları:\", sutun_ort)\n",
    "\n",
    "binary = (matris > 0.5).astype(int)\n",
    "print(\"Binary matris:\\n\", binary)"
   ]
  },
  {
   "cell_type": "markdown",
   "id": "0bdd7fed-229e-4539-99f9-4f6c57e89a4c",
   "metadata": {},
   "source": [
    "# Proje – “Kitap Satış Analiz Sistemi”"
   ]
  },
  {
   "cell_type": "code",
   "execution_count": 12,
   "id": "bfcc593f-3e46-40d4-93ae-fb2be02de68f",
   "metadata": {},
   "outputs": [],
   "source": [
    "kitaplar = [\n",
    "{\"isim\": \"Veri Bilimi 101\", \"yazar\": \"Ali\", \"tur\": \"Bilim\", \"satis\": 1200, \"yil\": 2021},\n",
    "{\"isim\": \"Python ile Yapay Zeka\", \"yazar\": \"Ayşe\", \"tur\": \"Bilim\", \"satis\": 950, \"yil\": 2020},\n",
    "{\"isim\": \"İstatistik Temelleri\", \"yazar\": \"Ali\", \"tur\": \"Akademik\", \"satis\": 700, \"yil\": 2019},\n",
    "{\"isim\": \"Makine Öğrenmesi\", \"yazar\": \"Can\", \"tur\": \"Bilim\", \"satis\": 1800, \"yil\": 2022},\n",
    "{\"isim\": \"Veri Görselleştirme\", \"yazar\": \"Deniz\", \"tur\": \"Sanat\", \"satis\": 400, \"yil\": 2018},\n",
    "{\"isim\": \"Matematiksel Modelleme\", \"yazar\": \"Ali\", \"tur\": \"Akademik\", \"satis\": 1500, \"yil\": 2021},\n",
    "{\"isim\": \"Bilgi Toplumu\", \"yazar\": \"Ayşe\", \"tur\": \"Sosyal\", \"satis\": 600, \"yil\": 2022}\n",
    "]"
   ]
  },
  {
   "cell_type": "code",
   "execution_count": 13,
   "id": "97db85b0-de17-4da0-ad6a-61e52be7b9c6",
   "metadata": {},
   "outputs": [
    {
     "name": "stdout",
     "output_type": "stream",
     "text": [
      "En çok satan kitap: Makine Öğrenmesi\n",
      "Yazar satışları: {'Ali': 3400, 'Ayşe': 1550, 'Can': 1800, 'Deniz': 400}\n",
      "Türler: ['Bilim', 'Akademik', 'Sanat', 'Sosyal']\n",
      "1000’den fazla satan kitaplar: ['Veri Bilimi 101', 'Makine Öğrenmesi', 'Matematiksel Modelleme']\n",
      "Ortalama satış: 1021.4285714285714\n",
      "Standart sapma: 468.9327874905672\n"
     ]
    }
   ],
   "source": [
    "en_cok = kitaplar[0]\n",
    "for k in kitaplar:\n",
    "    if k[\"satis\"] > en_cok[\"satis\"]:\n",
    "        en_cok = k\n",
    "print(\"En çok satan kitap:\", en_cok[\"isim\"])\n",
    "\n",
    "yazarlar = {}\n",
    "for k in kitaplar:\n",
    "    y = k[\"yazar\"]\n",
    "    s = k[\"satis\"]\n",
    "    if y in yazarlar:\n",
    "        yazarlar[y] = yazarlar[y] + s\n",
    "    else:\n",
    "        yazarlar[y] = s\n",
    "print(\"Yazar satışları:\", yazarlar)\n",
    "\n",
    "turler = []\n",
    "for k in kitaplar:\n",
    "    if k[\"tur\"] not in turler:\n",
    "        turler.append(k[\"tur\"])\n",
    "print(\"Türler:\", turler)\n",
    "\n",
    "bin_ustu = []\n",
    "for k in kitaplar:\n",
    "    if k[\"satis\"] > 1000:\n",
    "        bin_ustu.append(k[\"isim\"])\n",
    "print(\"1000’den fazla satan kitaplar:\", bin_ustu)\n",
    "\n",
    "satislar = []\n",
    "for k in kitaplar:\n",
    "    satislar.append(k[\"satis\"])\n",
    "print(\"Ortalama satış:\", statistics.mean(satislar))\n",
    "\n",
    "print(\"Standart sapma:\", statistics.pstdev(satislar))"
   ]
  },
  {
   "cell_type": "code",
   "execution_count": 14,
   "id": "a94758a0-d799-4bd6-9825-37799a673449",
   "metadata": {},
   "outputs": [
    {
     "name": "stdout",
     "output_type": "stream",
     "text": [
      "Train seti: ['Veri Bilimi 101', 'İstatistik Temelleri', 'Bilgi Toplumu', 'Makine Öğrenmesi']\n",
      "Test seti: ['Python ile Yapay Zeka', 'Veri Görselleştirme', 'Matematiksel Modelleme']\n",
      "\n",
      "Train ortalama satış: 1075\n",
      "Train yazar sıklıkları: {'Ali': 2, 'Ayşe': 1, 'Can': 1}\n",
      "\n",
      "Test ortalama satış: 950\n",
      "Test yazar sıklıkları: {'Ayşe': 1, 'Deniz': 1, 'Ali': 1}\n",
      "\n",
      "Yorum: Train setindeki ortalama satış test setinden daha yüksek.\n"
     ]
    }
   ],
   "source": [
    "import random\n",
    "import statistics\n",
    "\n",
    "# %70 train - %30 test\n",
    "random.seed(123)\n",
    "train = random.sample(kitaplar, int(len(kitaplar) * 0.7))\n",
    "test = []\n",
    "for k in kitaplar:\n",
    "    if k not in train:\n",
    "        test.append(k)\n",
    "\n",
    "print(\"Train seti:\", [k[\"isim\"] for k in train])\n",
    "print(\"Test seti:\", [k[\"isim\"] for k in test])\n",
    "\n",
    "# Train seti analiz\n",
    "train_satis = []\n",
    "train_yazarlar = {}\n",
    "for k in train:\n",
    "    train_satis.append(k[\"satis\"])\n",
    "    y = k[\"yazar\"]\n",
    "    if y in train_yazarlar:\n",
    "        train_yazarlar[y] = train_yazarlar[y] + 1\n",
    "    else:\n",
    "        train_yazarlar[y] = 1\n",
    "\n",
    "print(\"\\nTrain ortalama satış:\", statistics.mean(train_satis))\n",
    "print(\"Train yazar sıklıkları:\", train_yazarlar)\n",
    "\n",
    "# Test seti analiz\n",
    "test_satis = []\n",
    "test_yazarlar = {}\n",
    "for k in test:\n",
    "    test_satis.append(k[\"satis\"])\n",
    "    y = k[\"yazar\"]\n",
    "    if y in test_yazarlar:\n",
    "        test_yazarlar[y] = test_yazarlar[y] + 1\n",
    "    else:\n",
    "        test_yazarlar[y] = 1\n",
    "\n",
    "print(\"\\nTest ortalama satış:\", statistics.mean(test_satis))\n",
    "print(\"Test yazar sıklıkları:\", test_yazarlar)\n",
    "\n",
    "# Karşılaştırma yorumu\n",
    "if statistics.mean(train_satis) > statistics.mean(test_satis):\n",
    "    print(\"\\nYorum: Train setindeki ortalama satış test setinden daha yüksek.\")\n",
    "else:\n",
    "    print(\"\\nYorum: Test setindeki ortalama satış train setinden daha yüksek.\")"
   ]
  }
 ],
 "metadata": {
  "kernelspec": {
   "display_name": "Python 3 (ipykernel)",
   "language": "python",
   "name": "python3"
  },
  "language_info": {
   "codemirror_mode": {
    "name": "ipython",
    "version": 3
   },
   "file_extension": ".py",
   "mimetype": "text/x-python",
   "name": "python",
   "nbconvert_exporter": "python",
   "pygments_lexer": "ipython3",
   "version": "3.11.10"
  }
 },
 "nbformat": 4,
 "nbformat_minor": 5
}
