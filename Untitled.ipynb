{
 "cells": [
  {
   "cell_type": "code",
   "execution_count": 1,
   "id": "4dcf4298-416f-4a07-a10d-23f503ce62ef",
   "metadata": {},
   "outputs": [],
   "source": [
    "# soru 1"
   ]
  },
  {
   "cell_type": "code",
   "execution_count": 2,
   "id": "6108073b-4fbf-465f-9331-6d99cfd9c8ca",
   "metadata": {},
   "outputs": [
    {
     "name": "stdin",
     "output_type": "stream",
     "text": [
      "Bir sayı giriniz:  5\n"
     ]
    },
    {
     "name": "stdout",
     "output_type": "stream",
     "text": [
      "Pozitif Tek\n"
     ]
    }
   ],
   "source": [
    "x = int(input(\"Bir sayı giriniz: \"))\n",
    "if x < 0:\n",
    "    if x % 2 == 0:\n",
    "        print(\"Negatif Çift\")\n",
    "    else:\n",
    "        print(\"Negatif Tek\")\n",
    "elif x > 0:\n",
    "    if x % 2 == 0:\n",
    "        print(\"Pozitif Çift\")\n",
    "    else:\n",
    "        print(\"Pozitif Tek\")\n",
    "elif x == 0:\n",
    "    print(\"girilen sayı sıfırdır\")\n"
   ]
  },
  {
   "cell_type": "code",
   "execution_count": 3,
   "id": "da2e6e1b-1e70-40b4-9beb-d8e00cd2e7af",
   "metadata": {},
   "outputs": [],
   "source": [
    "# soru 2"
   ]
  },
  {
   "cell_type": "code",
   "execution_count": 6,
   "id": "fc13c5ef-4c7d-4fb2-ad38-5544900d6bdf",
   "metadata": {},
   "outputs": [
    {
     "name": "stdin",
     "output_type": "stream",
     "text": [
      "Bir kelime giriniz:  data\n"
     ]
    },
    {
     "name": "stdout",
     "output_type": "stream",
     "text": [
      "{'d': 1, 'a': 2, 't': 1}\n"
     ]
    }
   ],
   "source": [
    "kelime = input(\"Bir kelime giriniz: \")\n",
    "harfler = {}\n",
    "for harf in kelime:\n",
    "    if harf in harfler:\n",
    "        harfler[harf] += 1\n",
    "    else:\n",
    "        harfler[harf] = 1\n",
    "\n",
    "print(harfler)"
   ]
  },
  {
   "cell_type": "code",
   "execution_count": 7,
   "id": "fce15690-f49a-43fa-bfcf-67d11e58654c",
   "metadata": {},
   "outputs": [],
   "source": [
    "# soru 3"
   ]
  },
  {
   "cell_type": "code",
   "execution_count": 8,
   "id": "e3329b36-390b-4d6e-b1d7-d247ec6b8024",
   "metadata": {},
   "outputs": [
    {
     "name": "stdin",
     "output_type": "stream",
     "text": [
      "Bir şifre giriniz:  Edanurrr12345\n"
     ]
    },
    {
     "name": "stdout",
     "output_type": "stream",
     "text": [
      "Şifre geçerli!\n"
     ]
    }
   ],
   "source": [
    "sifre = input(\"Bir şifre giriniz: \")\n",
    "\n",
    "if len(sifre) < 8:\n",
    "    print(\"Şifre en az 8 karakter olmalı.\")\n",
    "else:\n",
    "    buyukharf = False\n",
    "    for harf in sifre:\n",
    "        if harf.isupper():\n",
    "            buyukharf = True\n",
    "            break\n",
    "    if not buyukharf:\n",
    "        print(\"Şifre en az 1 büyük harf içermeli.\")\n",
    "    else:\n",
    "        rakam = False\n",
    "        for harf in sifre:\n",
    "            if harf.isdigit():\n",
    "                rakam = True\n",
    "                break \n",
    "        if not rakam:\n",
    "            print(\"Şifre en az 1 rakam içermeli.\")\n",
    "        else:\n",
    "            print(\"Şifre geçerli!\")"
   ]
  },
  {
   "cell_type": "code",
   "execution_count": 9,
   "id": "219ba90b-df29-46ec-9f8c-811430890540",
   "metadata": {},
   "outputs": [],
   "source": [
    "# soru 4"
   ]
  },
  {
   "cell_type": "code",
   "execution_count": 10,
   "id": "6674e0dc-51a2-4c02-b3d4-b5fe91168b15",
   "metadata": {},
   "outputs": [
    {
     "name": "stdout",
     "output_type": "stream",
     "text": [
      "ortalaması : 15.0\n",
      "Ortalamadan Büyük Sayılar: [25, 30, 18]\n"
     ]
    }
   ],
   "source": [
    "liste = [12, 4, 9, 25, 30, 7, 18]\n",
    "ortalama = sum(liste)/len(liste)\n",
    "print(f\"ortalaması : {ortalama}\")\n",
    "\n",
    "ortalamadanBuyukler = []\n",
    "for sayi in liste:\n",
    "    if sayi > ortalama:\n",
    "        ortalamadanBuyukler.append(sayi)\n",
    "\n",
    "print(f\"Ortalamadan Büyük Sayılar: {ortalamadanBuyukler}\")"
   ]
  },
  {
   "cell_type": "code",
   "execution_count": 11,
   "id": "fb047480-4ffb-42c3-97a7-1f79c26cc7a8",
   "metadata": {},
   "outputs": [],
   "source": [
    "# soru 5"
   ]
  },
  {
   "cell_type": "code",
   "execution_count": 12,
   "id": "28633030-015b-4c7c-a85e-5576badefe56",
   "metadata": {},
   "outputs": [
    {
     "name": "stdout",
     "output_type": "stream",
     "text": [
      "*\n",
      "**\n",
      "***\n",
      "****\n",
      "*****\n"
     ]
    }
   ],
   "source": [
    "for i in range(5):\n",
    "    print(\"*\"*(i+1))"
   ]
  },
  {
   "cell_type": "code",
   "execution_count": 13,
   "id": "5b512a20-d3a3-49e7-bcae-57fae44075bd",
   "metadata": {},
   "outputs": [],
   "source": [
    "# soru 6"
   ]
  },
  {
   "cell_type": "code",
   "execution_count": 15,
   "id": "228a1a60-a4ac-4047-a845-6455573bbba5",
   "metadata": {},
   "outputs": [
    {
     "name": "stdin",
     "output_type": "stream",
     "text": [
      "Bir sayı giriniz (Çıkmak için 0'a basın):  1\n",
      "Bir sayı giriniz (Çıkmak için 0'a basın):  2\n",
      "Bir sayı giriniz (Çıkmak için 0'a basın):  3\n",
      "Bir sayı giriniz (Çıkmak için 0'a basın):  0\n"
     ]
    },
    {
     "name": "stdout",
     "output_type": "stream",
     "text": [
      "\n",
      "Girilen Sayıların Toplamı: 6\n",
      "Girilen Sayıların Ortalaması: 2.0\n"
     ]
    }
   ],
   "source": [
    "toplam = 0\n",
    "adet = 0\n",
    "\n",
    "while True:\n",
    "    try:\n",
    "        sayi = int(input(\"Bir sayı giriniz (Çıkmak için 0'a basın): \"))\n",
    "        if sayi == 0:\n",
    "            break\n",
    "        toplam += sayi\n",
    "        adet += 1\n",
    "    except ValueError:\n",
    "        print(\"Lütfen geçerli bir sayı giriniz.\")\n",
    "if adet > 0:\n",
    "    print(f\"\\nGirilen Sayıların Toplamı: {toplam}\")\n",
    "    print(f\"Girilen Sayıların Ortalaması: {toplam/adet}\")\n",
    "else:\n",
    "    print(\"\\nHiç sayı girilmedi.\")"
   ]
  },
  {
   "cell_type": "code",
   "execution_count": 16,
   "id": "60bd82a1-1502-4ff5-9897-61d37e0d7d83",
   "metadata": {},
   "outputs": [],
   "source": [
    "# soru 7"
   ]
  },
  {
   "cell_type": "code",
   "execution_count": 17,
   "id": "3aacd07e-3b79-4dde-bcae-889c80edc327",
   "metadata": {},
   "outputs": [
    {
     "name": "stdin",
     "output_type": "stream",
     "text": [
      "Bir kelime giriniz:  kayak\n"
     ]
    },
    {
     "name": "stdout",
     "output_type": "stream",
     "text": [
      "'kayak' bir palindromdur.\n"
     ]
    }
   ],
   "source": [
    "kelime = input(\"Bir kelime giriniz: \")\n",
    "terskelime =\"\"\n",
    "for i in range(len(kelime) - 1, -1, -1):\n",
    "    terskelime += kelime[i].lower()\n",
    "if kelime.lower() == terskelime:\n",
    "    print(f\"'{kelime}' bir palindromdur.\")\n",
    "else:\n",
    "    print(f\"'{kelime}' bir palindrom değildir.\")"
   ]
  },
  {
   "cell_type": "code",
   "execution_count": 18,
   "id": "5a033fcb-be76-4878-8eae-3b9a283e22fe",
   "metadata": {},
   "outputs": [],
   "source": [
    "# soru 8"
   ]
  },
  {
   "cell_type": "code",
   "execution_count": 19,
   "id": "98e88478-73fa-48c7-8c0d-593ac8806649",
   "metadata": {},
   "outputs": [
    {
     "name": "stdout",
     "output_type": "stream",
     "text": [
      "[225, 900, 2025, 3600, 5625, 8100]\n"
     ]
    }
   ],
   "source": [
    "karelerliste = [sayi**2 for sayi in range(1, 101) if sayi % 3 == 0 and sayi % 5 == 0]\n",
    "print(karelerliste)"
   ]
  },
  {
   "cell_type": "code",
   "execution_count": 20,
   "id": "82b91b33-048a-4533-9194-b1cea38e3724",
   "metadata": {},
   "outputs": [],
   "source": [
    "# soru 9"
   ]
  },
  {
   "cell_type": "code",
   "execution_count": 21,
   "id": "f3935f0b-e21d-48f1-bb69-58d27e9b83ff",
   "metadata": {},
   "outputs": [
    {
     "name": "stdin",
     "output_type": "stream",
     "text": [
      "Bir cümle giriniz:  python veri bilimi\n"
     ]
    },
    {
     "name": "stdout",
     "output_type": "stream",
     "text": [
      "Python Veri Bilimi\n"
     ]
    }
   ],
   "source": [
    "cumle = input(\"Bir cümle giriniz: \")\n",
    "kelimeler = cumle.split()\n",
    "yeniKelimeListe = []\n",
    "for kelime in kelimeler:\n",
    "    yeniKelimeListe.append(kelime.capitalize())\n",
    "\n",
    "yeniCumle = \" \".join(yeniKelimeListe)\n",
    "print(yeniCumle)"
   ]
  },
  {
   "cell_type": "code",
   "execution_count": 22,
   "id": "e1d60cc5-6d5d-4e5c-aef2-c5e0e1147a10",
   "metadata": {},
   "outputs": [],
   "source": [
    "# soru 10"
   ]
  },
  {
   "cell_type": "code",
   "execution_count": 27,
   "id": "f00f8362-513a-4283-9b9a-525440887431",
   "metadata": {},
   "outputs": [
    {
     "name": "stdout",
     "output_type": "stream",
     "text": [
      "Lütfen 5 adet film yorumu giriniz.\n"
     ]
    },
    {
     "name": "stdin",
     "output_type": "stream",
     "text": [
      "1. Yorum:  Film çok güzeldi,\n",
      "2. Yorum:  Kötüydü\n",
      "3. Yorum:  Ortalama bir filmdi\n",
      "4. Yorum:  Gerçekten çok iyi\n",
      "5. Yorum:  İyi ama daha iyi olabilirdi\n"
     ]
    },
    {
     "name": "stdout",
     "output_type": "stream",
     "text": [
      "\n",
      "--- ANALİZ SONUÇLARI ---\n",
      "Toplam yorum sayısı: 5\n",
      "\"iyi\" geçen yorum sayısı: 2\n",
      "En uzun yorum: İyi ama daha iyi olabilirdi\n",
      "En kısa yorum: Kötüydü\n",
      "Ortalama uzunluk: 17.4 karakter\n"
     ]
    }
   ],
   "source": [
    "yorumlar = []\n",
    "yorumSayisi = 5\n",
    "print(f\"Lütfen {yorumSayisi} adet film yorumu giriniz.\")\n",
    "for i in range(yorumSayisi):\n",
    "    yorum = input(f\"{i+1}. Yorum: \")\n",
    "    yorumlar.append(yorum)\n",
    "\n",
    "print(\"\\n--- ANALİZ SONUÇLARI ---\")\n",
    "print(f\"Toplam yorum sayısı: {len(yorumlar)}\")\n",
    "\n",
    "iyiSayac = 0\n",
    "for yorum in yorumlar:\n",
    "    if \"iyi\" in yorum.lower():\n",
    "        iyiSayac+= 1\n",
    "print(f'\"iyi\" geçen yorum sayısı: {iyiSayac}')\n",
    "\n",
    "enUzunYorum = yorumlar[0]\n",
    "enKisaYorum = yorumlar[0]\n",
    "\n",
    "for yorum in yorumlar:\n",
    "    if len(yorum) > len(enUzunYorum):\n",
    "        enUzunYorum = yorum\n",
    "    if len(yorum) < len(enKisaYorum):\n",
    "        enKisaYorum = yorum\n",
    "\n",
    "print(f\"En uzun yorum: {enUzunYorum}\")\n",
    "print(f\"En kısa yorum: {enKisaYorum}\")\n",
    "\n",
    "toplamKarakter = 0\n",
    "for yorum in yorumlar:\n",
    "    toplamKarakter += len(yorum)\n",
    "\n",
    "print(f\"Ortalama uzunluk: {toplamKarakter/len(yorumlar)} karakter\")"
   ]
  },
  {
   "cell_type": "code",
   "execution_count": null,
   "id": "26ca02a3-fb6f-4c76-9cc1-dccaf9594127",
   "metadata": {},
   "outputs": [],
   "source": []
  }
 ],
 "metadata": {
  "kernelspec": {
   "display_name": "Python 3 (ipykernel)",
   "language": "python",
   "name": "python3"
  },
  "language_info": {
   "codemirror_mode": {
    "name": "ipython",
    "version": 3
   },
   "file_extension": ".py",
   "mimetype": "text/x-python",
   "name": "python",
   "nbconvert_exporter": "python",
   "pygments_lexer": "ipython3",
   "version": "3.11.10"
  }
 },
 "nbformat": 4,
 "nbformat_minor": 5
}
